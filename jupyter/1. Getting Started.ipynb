{
 "cells": [
  {
   "cell_type": "markdown",
   "metadata": {},
   "source": [
    "# Github"
   ]
  },
  {
   "cell_type": "markdown",
   "metadata": {},
   "source": [
    "### 1. Generating Github Access Token"
   ]
  },
  {
   "cell_type": "markdown",
   "metadata": {},
   "source": [
    "If you are starting work on a new project or continuing with the existing project, you will need access to Github.\n",
    "\n",
    "1. Log into your Github account (which by now should be added to Peak Organisation).\n",
    "2. Click on your account portrait in the top right corner.\n",
    "3. Click on _Settings > Developer settings > Personal access token > Generate new token_.\n",
    "4. Add an information note to describe purpose of the token.\n",
    "5. Select all scopes.\n",
    "6. Locally (on your laptop) create password protected note to store your Github access token.\n",
    "7. Copy your access token and paste it into the password protected note.\n",
    "\n",
    "In future, you will need the access token everytime you will be either pushing/pulling your code to/from Github.\n",
    "\n",
    "**REMEMBER** You cannot recover lost access token. If you lose your token, you will need to delete the old one and create a new one."
   ]
  },
  {
   "cell_type": "markdown",
   "metadata": {},
   "source": [
    "### 2. Repos"
   ]
  },
  {
   "cell_type": "markdown",
   "metadata": {},
   "source": [
    "When a new workspace is created, it is usually empty. You will either need to create a new repository or clone an existing one. \n",
    "\n",
    "In this tutorial we will cover the process of cloning an existing repository."
   ]
  },
  {
   "cell_type": "markdown",
   "metadata": {},
   "source": [
    "#### 2.1 Cloning Existing Repository"
   ]
  },
  {
   "cell_type": "markdown",
   "metadata": {},
   "source": [
    "1. Click on the \"+\" icon in the top left corner.\n",
    "2. Click on Terminal.\n",
    "3. Type in \"cd ~/\" to make sure you are in the user root directory.\n",
    "4. Type in \"git clone https://github.com/PeakBI/repository-name\". <br>\n",
    "    4.1 Replace \"repository-name\" with a valid repository name. \n",
    "5. You will be asked to enter your username & passwords. <br>\n",
    "    5.1 Username is your Github username. <br>\n",
    "    5.2 Password is your Github access token.\n",
    "6. Type in \"cd folder-name\". <br>\n",
    "    6.1 Replace \"folder-name\" with a name of the repository which you just cloned."
   ]
  },
  {
   "cell_type": "markdown",
   "metadata": {},
   "source": [
    "#### 2.2 Checking Out Branches"
   ]
  },
  {
   "cell_type": "markdown",
   "metadata": {},
   "source": [
    "By default, when cloned, all Github repositories are pointed to a _master_ branch. \n",
    "\n",
    "It is a **VERY** bad practise to commit your code to a _master_ branch."
   ]
  },
  {
   "cell_type": "markdown",
   "metadata": {},
   "source": [
    "1. Click on the \"+\" icon in the top left corner.\n",
    "2. Click on Terminal.\n",
    "3. Type in \"cd ~/folder-name\". <br>\n",
    "    3.1 Replace \"folder-name\" with the name of the any valid Github repository you have on your workspace.\n",
    "4. Type in \"git checkout branch-name\". <br>\n",
    "    4.1 Replace \"branch-name\" with a valid branch name. <br>\n",
    "    4.2 If you want to create and checkout **new** branch add _-b_ flag as such: \"git checkout -b branch-name\"."
   ]
  },
  {
   "cell_type": "markdown",
   "metadata": {},
   "source": [
    "#### 2.3 Before Commiting"
   ]
  },
  {
   "cell_type": "markdown",
   "metadata": {},
   "source": [
    "Before you issue your first commit from a brand new workspace, you will need to provide your Github email and username. "
   ]
  },
  {
   "cell_type": "markdown",
   "metadata": {},
   "source": [
    "1. Click on the \"+\" icon in the top left corner.\n",
    "2. Click on Terminal.\n",
    "3. Type in \"cd ~/\".\n",
    "4. Type in \"git config --global user.name username\". <br>\n",
    "    4.1 Where \"username\" is your Github username.\n",
    "5. Type in \"git config --global user.email email\". <br>\n",
    "    5.1 Where \"email\" is your Github email address."
   ]
  },
  {
   "cell_type": "markdown",
   "metadata": {},
   "source": [
    "#### 2.4 Commiting Changes"
   ]
  },
  {
   "cell_type": "markdown",
   "metadata": {},
   "source": [
    "Your will need to commit your work to Github in order to keep your codebase up-to-date.\n",
    "\n",
    "Sometimes, a workspace you are working on may crash and you could lose your work. \n",
    "\n",
    "**Be Safe! Commit regaularly to avoid losing your work!** "
   ]
  },
  {
   "cell_type": "markdown",
   "metadata": {},
   "source": [
    "1. Click on the \"+\" icon in the top left corner.\n",
    "2. Click on Terminal.\n",
    "3. Type in \"cd ~/folder-name\". <br>\n",
    "    3.1 Replace \"folder-name\" with the name of the any valid Github repository you have on your workspace.\n",
    "4. Type in \"git status\" to see what changes can be commited.\n",
    "5. Type in \"git add path-to-your-file\" to add new/changed file to the commit. <br>\n",
    "    5.1 Replace \"path-to-your-file\" with a path to the file which is to be commited.\n",
    "6. Type in \"git commit -m your-commit-description\". <br>\n",
    "    6.1 Replace \"your-commit-description\" with a concise commit summary.\n",
    "7. Type in \"git push\".\n",
    "8. You will be asked to enter your username & passwords. <br>\n",
    "    8.1 Username is your Github username. <br>\n",
    "    8.2 Password is your Github access token."
   ]
  }
 ],
 "metadata": {
  "kernelspec": {
   "display_name": "Python 3",
   "language": "python",
   "name": "python3"
  },
  "language_info": {
   "codemirror_mode": {
    "name": "ipython",
    "version": 3
   },
   "file_extension": ".py",
   "mimetype": "text/x-python",
   "name": "python",
   "nbconvert_exporter": "python",
   "pygments_lexer": "ipython3",
   "version": "3.6.10"
  }
 },
 "nbformat": 4,
 "nbformat_minor": 4
}

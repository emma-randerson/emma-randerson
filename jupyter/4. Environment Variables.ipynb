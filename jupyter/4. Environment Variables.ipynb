{
 "cells": [
  {
   "cell_type": "markdown",
   "metadata": {},
   "source": [
    "# Environment Variables"
   ]
  },
  {
   "cell_type": "markdown",
   "metadata": {},
   "source": [
    "### 1. AIS API Key"
   ]
  },
  {
   "cell_type": "markdown",
   "metadata": {},
   "source": [
    "AIS API Key enables us, Data Scientists, to upload files into _AIS > Outcomes > Downloads_ via _signed_url_ method. This is useful for when there is a need to share some outputs back with the customer. "
   ]
  },
  {
   "cell_type": "markdown",
   "metadata": {},
   "source": [
    "#### 1.1 Generating AIS API Key"
   ]
  },
  {
   "cell_type": "markdown",
   "metadata": {},
   "source": [
    "1. Log into AIS.\n",
    "2. Switch to the appropriate Tenant.\n",
    "3. Go to _Administration > Access Tokens_.\n",
    "4. Click on \"Add\" within the API Keys section."
   ]
  },
  {
   "cell_type": "markdown",
   "metadata": {},
   "source": [
    "#### 1.2 Adding AIS API Key to Jupyter Workspace  "
   ]
  },
  {
   "cell_type": "markdown",
   "metadata": {},
   "source": [
    "1. Click on the `+` icon in the top left corner.\n",
    "2. Click on Terminal.\n",
    "3. Type in `cd ~/` to make sure you are in the user root directory.\n",
    "4. Type in `nano .env`.\n",
    "5. At the bottom of the file enter: `export AIS_API_KEY=<api-key>`. <br>\n",
    "    5.1 Where `api-key` is the API Key you generated earlier.\n",
    "6. Save changes `CTRL+X > Y > ENTER`."
   ]
  },
  {
   "cell_type": "markdown",
   "metadata": {},
   "source": [
    "**P.S** There is a useful Slack channel #ais-api-key-expiry-checks which will notify when you API Key will expire."
   ]
  },
  {
   "cell_type": "markdown",
   "metadata": {},
   "source": [
    "### 2. Redshift IAM Role"
   ]
  },
  {
   "cell_type": "markdown",
   "metadata": {},
   "source": [
    "In order to write to Redshift you need special environment variable called _Redshift IAM Role_. This should be present in your `.env` file, but in some older workspaces it is not exported with the correct name. To check that it is set correctly:"
   ]
  },
  {
   "cell_type": "markdown",
   "metadata": {},
   "source": [
    "1. Click on the `+` icon in the top left corner.\n",
    "2. Click on Terminal.\n",
    "3. Type in `cd ~/` to make sure you are in the user root directory.\n",
    "4. Type in `nano .env`.\n",
    "5. There should be an entry that looks like: `export REDSHIFT_IAM_ROLE=<redshift-iam-role>`. \n",
    "6. If there isn't, check for an entry that looks like: `export REDSHIFT_ROLE=<redshift-iam-role>` and rename it so that it looks like: `export REDSHIFT_IAM_ROLE=<redshift-iam-role>`.\n",
    "7. If that isn't present, make a support ticket (https://peak-bi.atlassian.net/servicedesk/customer/portals) asking for the _REDSHIFT_IAM_ROLE_ for _[tenant]_ on _[workspace]_. Specify that you have checked the .env file and cannot find anything that looks like an iam role. They should send you an IAM ROLE, which you would enter in the same format as above: `export REDSHIFT_IAM_ROLE=<redshift-iam-role>`. <br>\n",
    "6. Save changes `CTRL+X > Y > ENTER`."
   ]
  }
 ],
 "metadata": {
  "kernelspec": {
   "display_name": "Python 3",
   "language": "python",
   "name": "python3"
  },
  "language_info": {
   "codemirror_mode": {
    "name": "ipython",
    "version": 3
   },
   "file_extension": ".py",
   "mimetype": "text/x-python",
   "name": "python",
   "nbconvert_exporter": "python",
   "pygments_lexer": "ipython3",
   "version": "3.6.10"
  }
 },
 "nbformat": 4,
 "nbformat_minor": 4
}

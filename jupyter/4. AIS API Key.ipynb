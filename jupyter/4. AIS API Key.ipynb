{
 "cells": [
  {
   "cell_type": "markdown",
   "metadata": {},
   "source": [
    "# AIS API Key"
   ]
  },
  {
   "cell_type": "markdown",
   "metadata": {},
   "source": [
    "AIS API Key enable us, Data Scientists, to upload files onto AIS via _signed_url_ method. This is useful for when there is a need to share some outputs back with the customer. "
   ]
  },
  {
   "cell_type": "markdown",
   "metadata": {},
   "source": [
    "### 1. Generating AIS API Key"
   ]
  },
  {
   "cell_type": "markdown",
   "metadata": {},
   "source": [
    "1. Log into AIS.\n",
    "2. Switch to the appropriate Tenant.\n",
    "3. Go to _Administration > Access Tokens_.\n",
    "4. Click on \"Add\" within the API Keys section."
   ]
  },
  {
   "cell_type": "markdown",
   "metadata": {},
   "source": [
    "### 2. Adding AIS API Key to Jupyter Workspace  "
   ]
  },
  {
   "cell_type": "markdown",
   "metadata": {},
   "source": [
    "1. Click on the `+` icon in the top left corner.\n",
    "2. Click on Terminal.\n",
    "3. Type in `cd ~/` to make sure you are in the user root directory.\n",
    "4. Type in `nano .env`.\n",
    "5. At the bottom of the file enter: `export AIS_API_KEY=<api-key>`. <br>\n",
    "    5.1 Where `api-key` is the API Key you generated earlier.\n",
    "6. Save changes `CTRL+X > Y > ENTER`."
   ]
  },
  {
   "cell_type": "markdown",
   "metadata": {},
   "source": [
    "**Note** the `AIS_API_KEY` is the name of the environment variable which will hold your API Key. \n",
    "\n",
    "You can access this variable using `import os` package as such: `os.environ['AIS_API_KEY']`"
   ]
  },
  {
   "cell_type": "markdown",
   "metadata": {},
   "source": [
    "**P.S** There is a useful Slack channel #ais-api-key-expiry-checks which will notify when you API Key will expire."
   ]
  }
 ],
 "metadata": {
  "kernelspec": {
   "display_name": "Python 3",
   "language": "python",
   "name": "python3"
  },
  "language_info": {
   "codemirror_mode": {
    "name": "ipython",
    "version": 3
   },
   "file_extension": ".py",
   "mimetype": "text/x-python",
   "name": "python",
   "nbconvert_exporter": "python",
   "pygments_lexer": "ipython3",
   "version": "3.6.10"
  }
 },
 "nbformat": 4,
 "nbformat_minor": 4
}

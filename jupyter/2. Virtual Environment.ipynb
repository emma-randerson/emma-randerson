{
 "cells": [
  {
   "cell_type": "markdown",
   "metadata": {},
   "source": [
    "# Virtual Environment"
   ]
  },
  {
   "cell_type": "markdown",
   "metadata": {},
   "source": [
    "_Virtual environments_ enable you to create an isolated environment for Python projects. Each virtual environment has its own Python binary and can have its own independent set of installed Python packages in its site directories."
   ]
  },
  {
   "cell_type": "markdown",
   "metadata": {},
   "source": [
    "### 1. Installing Virtual Environment"
   ]
  },
  {
   "cell_type": "markdown",
   "metadata": {},
   "source": [
    "1. Click on the \"+\" icon in the top left corner.\n",
    "2. Click on Terminal.\n",
    "3. Type in \"cd ~/\" to make sure you are in the user root directory.\n",
    "4. Type in \"pip install --user virtualenv\".\n",
    "5. Type in \"virtualenv env_name\". </br>\n",
    "    5.1 Where \"env_name\" is the name of your environment.\n",
    "6. Type in \"source env_name/bin/activate\". </br>\n",
    "    6.1 Where \"env_name\" is the name of your environment."
   ]
  },
  {
   "cell_type": "markdown",
   "metadata": {},
   "source": [
    "If you wish to use your new environment inside your jupyter notebook, you need to follow these additional steps:"
   ]
  },
  {
   "cell_type": "markdown",
   "metadata": {},
   "source": [
    "7. Type in \"pip install ipykernel\".\n",
    "8. Type in \"python -m ipykernel install --user --name=env_name\". </br>\n",
    "    8.1 Where \"env_name\" is the name of your environment.\n",
    "9. Click on _File > Hub Control Panel_ in the top left corner (near jupyter logo).\n",
    "10. Click on \"Stop My Server\" button.\n",
    "11. Click on \"Start My Server\", then on \"Launch Server\".\n",
    "\n",
    "You should be able to see your virtual environment when chosing python kernel."
   ]
  },
  {
   "cell_type": "markdown",
   "metadata": {},
   "source": [
    "You can find additional information here: https://github.com/PeakBI/jupyter-image/wiki/How-Tos#using-virtual-environments"
   ]
  },
  {
   "cell_type": "markdown",
   "metadata": {},
   "source": [
    "### 2. Activating Virtual Environments"
   ]
  },
  {
   "cell_type": "markdown",
   "metadata": {},
   "source": [
    "#### 2.1 Terminal"
   ]
  },
  {
   "cell_type": "markdown",
   "metadata": {},
   "source": [
    "1. Click on the \"+\" icon in the top left corner.\n",
    "2. Click on Terminal.\n",
    "3. Type in \"cd ~/\" to make sure you are in the user root directory.\n",
    "4. Type in \"source env_name/bin/activate\". </br>\n",
    "    4.1 Where \"env_name\" is the name of the environment you wish to activate."
   ]
  },
  {
   "cell_type": "markdown",
   "metadata": {},
   "source": [
    "#### 2.2 Jupyter Notebook"
   ]
  },
  {
   "cell_type": "markdown",
   "metadata": {},
   "source": [
    "1. Either when creating a new notebook or working with the existing one, just chose appropriate python kernel."
   ]
  }
 ],
 "metadata": {
  "kernelspec": {
   "display_name": "Python 3",
   "language": "python",
   "name": "python3"
  },
  "language_info": {
   "codemirror_mode": {
    "name": "ipython",
    "version": 3
   },
   "file_extension": ".py",
   "mimetype": "text/x-python",
   "name": "python",
   "nbconvert_exporter": "python",
   "pygments_lexer": "ipython3",
   "version": "3.6.10"
  }
 },
 "nbformat": 4,
 "nbformat_minor": 4
}

{
 "cells": [
  {
   "cell_type": "markdown",
   "metadata": {},
   "source": [
    "# Packages"
   ]
  },
  {
   "cell_type": "markdown",
   "metadata": {},
   "source": [
    "At Peak, we have our own ML Framework called _Orion_ (https://github.com/PeakBI/orion). \n",
    "\n",
    "Orion empowers Peak's DS day-to-day tasks by providing simple frameworks to interface with Data Sources (S3, Redshift, AIS), as well as templates to deploy APIs, recommender systems & custom packages. Also, _Orion_ has a dedicated contribution submodule where any Peak DS is welcome to share useful code snippets. These are just some of the perks which _Orion_ provides.\n",
    "\n",
    "Conviniently, _Orion_  comes with a host of popular Python packages, therefore when installing _Orion_, we automatically install all other packages as well. \n",
    "\n",
    "Here is the list of packages that will be installed together with _Orion_ (https://github.com/PeakBI/orion/blob/master/requirements.txt)."
   ]
  },
  {
   "cell_type": "markdown",
   "metadata": {},
   "source": [
    "### 1. Installing Orion"
   ]
  },
  {
   "cell_type": "markdown",
   "metadata": {},
   "source": [
    "1. Click on the `+` icon in the top left corner.\n",
    "2. Click on Terminal.\n",
    "3. Type in `cd ~/` to make sure you are in the user root directory.\n",
    "4. Activate your virtual environment (Section 2. Virtual Environment).\n",
    "5. Type in `pip install -e git+https://github.com/PeakBI/orion.git#egg=orion`\n",
    "6. Type in your Github username & Github password. <br>\n",
    "    6.1 Github password will be you access token."
   ]
  },
  {
   "cell_type": "markdown",
   "metadata": {},
   "source": [
    "### 2. Installing Regular Python Packages"
   ]
  },
  {
   "cell_type": "markdown",
   "metadata": {},
   "source": [
    "1. Click on the `+` icon in the top left corner.\n",
    "2. Click on Terminal.\n",
    "3. Type in `cd ~/` to make sure you are in the user root directory.\n",
    "4. Activate your virtual environment (Section 2. Virtual Environment).\n",
    "5. Type in `pip install <package-name>`. <br>\n",
    "    5.1 Where `package-name` is the name of the package you wish to install."
   ]
  }
 ],
 "metadata": {
  "kernelspec": {
   "display_name": "Python 3",
   "language": "python",
   "name": "python3"
  },
  "language_info": {
   "codemirror_mode": {
    "name": "ipython",
    "version": 3
   },
   "file_extension": ".py",
   "mimetype": "text/x-python",
   "name": "python",
   "nbconvert_exporter": "python",
   "pygments_lexer": "ipython3",
   "version": "3.6.10"
  }
 },
 "nbformat": 4,
 "nbformat_minor": 4
}

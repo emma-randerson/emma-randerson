{
 "cells": [
  {
   "cell_type": "markdown",
   "metadata": {},
   "source": [
    "# Data Sources"
   ]
  },
  {
   "cell_type": "markdown",
   "metadata": {},
   "source": [
    "_Orion_ is Peak's go to framework for reading, writing & transferring data across various sources.\n",
    "\n",
    "In this tutorial we will go over some of the most foundamental operations we perform at Peak, such as writing data to/from Redshift/S3/AIS."
   ]
  },
  {
   "cell_type": "markdown",
   "metadata": {},
   "source": [
    "## 1. Reading Data In"
   ]
  },
  {
   "cell_type": "markdown",
   "metadata": {},
   "source": [
    "### 1.1 S3"
   ]
  },
  {
   "cell_type": "code",
   "execution_count": 1,
   "metadata": {},
   "outputs": [],
   "source": [
    "from orion.sources import S3Source"
   ]
  },
  {
   "cell_type": "code",
   "execution_count": 2,
   "metadata": {},
   "outputs": [
    {
     "data": {
      "text/html": [
       "<div>\n",
       "<style scoped>\n",
       "    .dataframe tbody tr th:only-of-type {\n",
       "        vertical-align: middle;\n",
       "    }\n",
       "\n",
       "    .dataframe tbody tr th {\n",
       "        vertical-align: top;\n",
       "    }\n",
       "\n",
       "    .dataframe thead th {\n",
       "        text-align: right;\n",
       "    }\n",
       "</style>\n",
       "<table border=\"1\" class=\"dataframe\">\n",
       "  <thead>\n",
       "    <tr style=\"text-align: right;\">\n",
       "      <th></th>\n",
       "      <th>origin</th>\n",
       "      <th>year</th>\n",
       "      <th>month</th>\n",
       "      <th>day</th>\n",
       "      <th>hour</th>\n",
       "      <th>temp</th>\n",
       "      <th>dewp</th>\n",
       "      <th>humid</th>\n",
       "      <th>wind_dir</th>\n",
       "      <th>wind_speed</th>\n",
       "      <th>wind_gust</th>\n",
       "      <th>precip</th>\n",
       "      <th>pressure</th>\n",
       "      <th>visib</th>\n",
       "      <th>time_hour</th>\n",
       "    </tr>\n",
       "  </thead>\n",
       "  <tbody>\n",
       "    <tr>\n",
       "      <th>0</th>\n",
       "      <td>EWR</td>\n",
       "      <td>2013</td>\n",
       "      <td>1</td>\n",
       "      <td>1</td>\n",
       "      <td>1</td>\n",
       "      <td>39.02</td>\n",
       "      <td>26.06</td>\n",
       "      <td>59.37</td>\n",
       "      <td>270.0</td>\n",
       "      <td>10.35702</td>\n",
       "      <td>NaN</td>\n",
       "      <td>0.0</td>\n",
       "      <td>1012.0</td>\n",
       "      <td>10.0</td>\n",
       "      <td>2013-01-01T06:00:00Z</td>\n",
       "    </tr>\n",
       "    <tr>\n",
       "      <th>1</th>\n",
       "      <td>EWR</td>\n",
       "      <td>2013</td>\n",
       "      <td>1</td>\n",
       "      <td>1</td>\n",
       "      <td>2</td>\n",
       "      <td>39.02</td>\n",
       "      <td>26.96</td>\n",
       "      <td>61.63</td>\n",
       "      <td>250.0</td>\n",
       "      <td>8.05546</td>\n",
       "      <td>NaN</td>\n",
       "      <td>0.0</td>\n",
       "      <td>1012.3</td>\n",
       "      <td>10.0</td>\n",
       "      <td>2013-01-01T07:00:00Z</td>\n",
       "    </tr>\n",
       "    <tr>\n",
       "      <th>2</th>\n",
       "      <td>EWR</td>\n",
       "      <td>2013</td>\n",
       "      <td>1</td>\n",
       "      <td>1</td>\n",
       "      <td>3</td>\n",
       "      <td>39.02</td>\n",
       "      <td>28.04</td>\n",
       "      <td>64.43</td>\n",
       "      <td>240.0</td>\n",
       "      <td>11.50780</td>\n",
       "      <td>NaN</td>\n",
       "      <td>0.0</td>\n",
       "      <td>1012.5</td>\n",
       "      <td>10.0</td>\n",
       "      <td>2013-01-01T08:00:00Z</td>\n",
       "    </tr>\n",
       "    <tr>\n",
       "      <th>3</th>\n",
       "      <td>EWR</td>\n",
       "      <td>2013</td>\n",
       "      <td>1</td>\n",
       "      <td>1</td>\n",
       "      <td>4</td>\n",
       "      <td>39.92</td>\n",
       "      <td>28.04</td>\n",
       "      <td>62.21</td>\n",
       "      <td>250.0</td>\n",
       "      <td>12.65858</td>\n",
       "      <td>NaN</td>\n",
       "      <td>0.0</td>\n",
       "      <td>1012.2</td>\n",
       "      <td>10.0</td>\n",
       "      <td>2013-01-01T09:00:00Z</td>\n",
       "    </tr>\n",
       "    <tr>\n",
       "      <th>4</th>\n",
       "      <td>EWR</td>\n",
       "      <td>2013</td>\n",
       "      <td>1</td>\n",
       "      <td>1</td>\n",
       "      <td>5</td>\n",
       "      <td>39.02</td>\n",
       "      <td>28.04</td>\n",
       "      <td>64.43</td>\n",
       "      <td>260.0</td>\n",
       "      <td>12.65858</td>\n",
       "      <td>NaN</td>\n",
       "      <td>0.0</td>\n",
       "      <td>1011.9</td>\n",
       "      <td>10.0</td>\n",
       "      <td>2013-01-01T10:00:00Z</td>\n",
       "    </tr>\n",
       "  </tbody>\n",
       "</table>\n",
       "</div>"
      ],
      "text/plain": [
       "  origin  year  month  day  hour   temp   dewp  humid  wind_dir  wind_speed  \\\n",
       "0    EWR  2013      1    1     1  39.02  26.06  59.37     270.0    10.35702   \n",
       "1    EWR  2013      1    1     2  39.02  26.96  61.63     250.0     8.05546   \n",
       "2    EWR  2013      1    1     3  39.02  28.04  64.43     240.0    11.50780   \n",
       "3    EWR  2013      1    1     4  39.92  28.04  62.21     250.0    12.65858   \n",
       "4    EWR  2013      1    1     5  39.02  28.04  64.43     260.0    12.65858   \n",
       "\n",
       "   wind_gust  precip  pressure  visib             time_hour  \n",
       "0        NaN     0.0    1012.0   10.0  2013-01-01T06:00:00Z  \n",
       "1        NaN     0.0    1012.3   10.0  2013-01-01T07:00:00Z  \n",
       "2        NaN     0.0    1012.5   10.0  2013-01-01T08:00:00Z  \n",
       "3        NaN     0.0    1012.2   10.0  2013-01-01T09:00:00Z  \n",
       "4        NaN     0.0    1011.9   10.0  2013-01-01T10:00:00Z  "
      ]
     },
     "execution_count": 2,
     "metadata": {},
     "output_type": "execute_result"
    }
   ],
   "source": [
    "weather = S3Source(\n",
    "    bucket='kilimanjaro-prod-datalake', \n",
    "    key='newstarter/uploads/weather/1581525070376_Peak_weather.csv'\n",
    ").read_csv()\n",
    "weather.head(5)"
   ]
  },
  {
   "cell_type": "markdown",
   "metadata": {},
   "source": [
    "### 1.2 Redshift"
   ]
  },
  {
   "cell_type": "markdown",
   "metadata": {},
   "source": [
    "Unlike S3, Redshift requires access to certain environment variables before any read/write operation can be executed. We pull those environment variables into our notebook using _load_env()_ function. "
   ]
  },
  {
   "cell_type": "code",
   "execution_count": 3,
   "metadata": {},
   "outputs": [
    {
     "data": {
      "text/plain": [
       "True"
      ]
     },
     "execution_count": 3,
     "metadata": {},
     "output_type": "execute_result"
    }
   ],
   "source": [
    "from orion.contrib.envs import load_env\n",
    "load_env()"
   ]
  },
  {
   "cell_type": "code",
   "execution_count": 4,
   "metadata": {},
   "outputs": [],
   "source": [
    "from orion.sources import RedshiftSource"
   ]
  },
  {
   "cell_type": "markdown",
   "metadata": {},
   "source": [
    "### 1.2.1 Using Query"
   ]
  },
  {
   "cell_type": "code",
   "execution_count": 5,
   "metadata": {},
   "outputs": [
    {
     "data": {
      "text/html": [
       "<div>\n",
       "<style scoped>\n",
       "    .dataframe tbody tr th:only-of-type {\n",
       "        vertical-align: middle;\n",
       "    }\n",
       "\n",
       "    .dataframe tbody tr th {\n",
       "        vertical-align: top;\n",
       "    }\n",
       "\n",
       "    .dataframe thead th {\n",
       "        text-align: right;\n",
       "    }\n",
       "</style>\n",
       "<table border=\"1\" class=\"dataframe\">\n",
       "  <thead>\n",
       "    <tr style=\"text-align: right;\">\n",
       "      <th></th>\n",
       "      <th>origin</th>\n",
       "      <th>year</th>\n",
       "      <th>month</th>\n",
       "      <th>day</th>\n",
       "      <th>hour</th>\n",
       "      <th>temp</th>\n",
       "      <th>dewp</th>\n",
       "      <th>humid</th>\n",
       "      <th>wind_dir</th>\n",
       "      <th>wind_speed</th>\n",
       "      <th>wind_gust</th>\n",
       "      <th>precip</th>\n",
       "      <th>pressure</th>\n",
       "      <th>visib</th>\n",
       "      <th>time_hour</th>\n",
       "    </tr>\n",
       "  </thead>\n",
       "  <tbody>\n",
       "    <tr>\n",
       "      <th>0</th>\n",
       "      <td>EWR</td>\n",
       "      <td>2013</td>\n",
       "      <td>1</td>\n",
       "      <td>1</td>\n",
       "      <td>5</td>\n",
       "      <td>39.02</td>\n",
       "      <td>28.04</td>\n",
       "      <td>64.43</td>\n",
       "      <td>260</td>\n",
       "      <td>12.658579999999999</td>\n",
       "      <td>NA</td>\n",
       "      <td>0</td>\n",
       "      <td>1011.9</td>\n",
       "      <td>10</td>\n",
       "      <td>2013-01-01T10:00:00Z</td>\n",
       "    </tr>\n",
       "    <tr>\n",
       "      <th>1</th>\n",
       "      <td>EWR</td>\n",
       "      <td>2013</td>\n",
       "      <td>1</td>\n",
       "      <td>2</td>\n",
       "      <td>14</td>\n",
       "      <td>33.98</td>\n",
       "      <td>10.94</td>\n",
       "      <td>37.86</td>\n",
       "      <td>310</td>\n",
       "      <td>17.261699999999998</td>\n",
       "      <td>26.46794</td>\n",
       "      <td>0</td>\n",
       "      <td>1017.8</td>\n",
       "      <td>10</td>\n",
       "      <td>2013-01-02T19:00:00Z</td>\n",
       "    </tr>\n",
       "    <tr>\n",
       "      <th>2</th>\n",
       "      <td>EWR</td>\n",
       "      <td>2013</td>\n",
       "      <td>1</td>\n",
       "      <td>3</td>\n",
       "      <td>22</td>\n",
       "      <td>28.94</td>\n",
       "      <td>17.06</td>\n",
       "      <td>60.69</td>\n",
       "      <td>230</td>\n",
       "      <td>10.357019999999999</td>\n",
       "      <td>NA</td>\n",
       "      <td>0</td>\n",
       "      <td>1019</td>\n",
       "      <td>10</td>\n",
       "      <td>2013-01-04T03:00:00Z</td>\n",
       "    </tr>\n",
       "    <tr>\n",
       "      <th>3</th>\n",
       "      <td>EWR</td>\n",
       "      <td>2013</td>\n",
       "      <td>1</td>\n",
       "      <td>5</td>\n",
       "      <td>6</td>\n",
       "      <td>33.08</td>\n",
       "      <td>17.96</td>\n",
       "      <td>53.36</td>\n",
       "      <td>250</td>\n",
       "      <td>10.357019999999999</td>\n",
       "      <td>NA</td>\n",
       "      <td>0</td>\n",
       "      <td>1022.4</td>\n",
       "      <td>10</td>\n",
       "      <td>2013-01-05T11:00:00Z</td>\n",
       "    </tr>\n",
       "    <tr>\n",
       "      <th>4</th>\n",
       "      <td>EWR</td>\n",
       "      <td>2013</td>\n",
       "      <td>1</td>\n",
       "      <td>6</td>\n",
       "      <td>14</td>\n",
       "      <td>48.02</td>\n",
       "      <td>24.98</td>\n",
       "      <td>40.22</td>\n",
       "      <td>250</td>\n",
       "      <td>14.960139999999999</td>\n",
       "      <td>18.41248</td>\n",
       "      <td>0</td>\n",
       "      <td>1015.1</td>\n",
       "      <td>10</td>\n",
       "      <td>2013-01-06T19:00:00Z</td>\n",
       "    </tr>\n",
       "  </tbody>\n",
       "</table>\n",
       "</div>"
      ],
      "text/plain": [
       "  origin  year month day hour   temp   dewp  humid wind_dir  \\\n",
       "0    EWR  2013     1   1    5  39.02  28.04  64.43      260   \n",
       "1    EWR  2013     1   2   14  33.98  10.94  37.86      310   \n",
       "2    EWR  2013     1   3   22  28.94  17.06  60.69      230   \n",
       "3    EWR  2013     1   5    6  33.08  17.96  53.36      250   \n",
       "4    EWR  2013     1   6   14  48.02  24.98  40.22      250   \n",
       "\n",
       "           wind_speed wind_gust precip pressure visib             time_hour  \n",
       "0  12.658579999999999        NA      0   1011.9    10  2013-01-01T10:00:00Z  \n",
       "1  17.261699999999998  26.46794      0   1017.8    10  2013-01-02T19:00:00Z  \n",
       "2  10.357019999999999        NA      0     1019    10  2013-01-04T03:00:00Z  \n",
       "3  10.357019999999999        NA      0   1022.4    10  2013-01-05T11:00:00Z  \n",
       "4  14.960139999999999  18.41248      0   1015.1    10  2013-01-06T19:00:00Z  "
      ]
     },
     "execution_count": 5,
     "metadata": {},
     "output_type": "execute_result"
    }
   ],
   "source": [
    "sql_query = \"\"\"\n",
    "    select \n",
    "        *\n",
    "    from\n",
    "        stage.weather\n",
    "    \"\"\"\n",
    "\n",
    "weather = RedshiftSource(query=sql_query).read_csv()\n",
    "weather.head(5)"
   ]
  },
  {
   "cell_type": "markdown",
   "metadata": {},
   "source": [
    "### 1.2.2 Using File"
   ]
  },
  {
   "cell_type": "code",
   "execution_count": 6,
   "metadata": {},
   "outputs": [
    {
     "data": {
      "text/html": [
       "<div>\n",
       "<style scoped>\n",
       "    .dataframe tbody tr th:only-of-type {\n",
       "        vertical-align: middle;\n",
       "    }\n",
       "\n",
       "    .dataframe tbody tr th {\n",
       "        vertical-align: top;\n",
       "    }\n",
       "\n",
       "    .dataframe thead th {\n",
       "        text-align: right;\n",
       "    }\n",
       "</style>\n",
       "<table border=\"1\" class=\"dataframe\">\n",
       "  <thead>\n",
       "    <tr style=\"text-align: right;\">\n",
       "      <th></th>\n",
       "      <th>origin</th>\n",
       "      <th>year</th>\n",
       "      <th>month</th>\n",
       "      <th>day</th>\n",
       "      <th>hour</th>\n",
       "      <th>temp</th>\n",
       "      <th>dewp</th>\n",
       "      <th>humid</th>\n",
       "      <th>wind_dir</th>\n",
       "      <th>wind_speed</th>\n",
       "      <th>wind_gust</th>\n",
       "      <th>precip</th>\n",
       "      <th>pressure</th>\n",
       "      <th>visib</th>\n",
       "      <th>time_hour</th>\n",
       "    </tr>\n",
       "  </thead>\n",
       "  <tbody>\n",
       "    <tr>\n",
       "      <th>0</th>\n",
       "      <td>EWR</td>\n",
       "      <td>2013</td>\n",
       "      <td>1</td>\n",
       "      <td>1</td>\n",
       "      <td>13</td>\n",
       "      <td>39.2</td>\n",
       "      <td>28.4</td>\n",
       "      <td>69.67</td>\n",
       "      <td>330</td>\n",
       "      <td>16.11092</td>\n",
       "      <td>NA</td>\n",
       "      <td>0</td>\n",
       "      <td>NA</td>\n",
       "      <td>10</td>\n",
       "      <td>2013-01-01T18:00:00Z</td>\n",
       "    </tr>\n",
       "    <tr>\n",
       "      <th>1</th>\n",
       "      <td>EWR</td>\n",
       "      <td>2013</td>\n",
       "      <td>1</td>\n",
       "      <td>2</td>\n",
       "      <td>21</td>\n",
       "      <td>30.02</td>\n",
       "      <td>14</td>\n",
       "      <td>50.84</td>\n",
       "      <td>270</td>\n",
       "      <td>5.7539</td>\n",
       "      <td>NA</td>\n",
       "      <td>0</td>\n",
       "      <td>1021.2</td>\n",
       "      <td>10</td>\n",
       "      <td>2013-01-03T02:00:00Z</td>\n",
       "    </tr>\n",
       "    <tr>\n",
       "      <th>2</th>\n",
       "      <td>EWR</td>\n",
       "      <td>2013</td>\n",
       "      <td>1</td>\n",
       "      <td>4</td>\n",
       "      <td>5</td>\n",
       "      <td>30.92</td>\n",
       "      <td>21.02</td>\n",
       "      <td>66.34</td>\n",
       "      <td>240</td>\n",
       "      <td>11.5078</td>\n",
       "      <td>NA</td>\n",
       "      <td>0</td>\n",
       "      <td>1018.4</td>\n",
       "      <td>10</td>\n",
       "      <td>2013-01-04T10:00:00Z</td>\n",
       "    </tr>\n",
       "    <tr>\n",
       "      <th>3</th>\n",
       "      <td>EWR</td>\n",
       "      <td>2013</td>\n",
       "      <td>1</td>\n",
       "      <td>5</td>\n",
       "      <td>13</td>\n",
       "      <td>44.06</td>\n",
       "      <td>19.94</td>\n",
       "      <td>37.79</td>\n",
       "      <td>290</td>\n",
       "      <td>11.5078</td>\n",
       "      <td>19.56326</td>\n",
       "      <td>0</td>\n",
       "      <td>1023.6</td>\n",
       "      <td>10</td>\n",
       "      <td>2013-01-05T18:00:00Z</td>\n",
       "    </tr>\n",
       "    <tr>\n",
       "      <th>4</th>\n",
       "      <td>EWR</td>\n",
       "      <td>2013</td>\n",
       "      <td>1</td>\n",
       "      <td>6</td>\n",
       "      <td>21</td>\n",
       "      <td>42.08</td>\n",
       "      <td>26.06</td>\n",
       "      <td>52.73</td>\n",
       "      <td>270</td>\n",
       "      <td>10.357019999999999</td>\n",
       "      <td>NA</td>\n",
       "      <td>0</td>\n",
       "      <td>1016.7</td>\n",
       "      <td>10</td>\n",
       "      <td>2013-01-07T02:00:00Z</td>\n",
       "    </tr>\n",
       "  </tbody>\n",
       "</table>\n",
       "</div>"
      ],
      "text/plain": [
       "  origin  year month day hour   temp   dewp  humid wind_dir  \\\n",
       "0    EWR  2013     1   1   13   39.2   28.4  69.67      330   \n",
       "1    EWR  2013     1   2   21  30.02     14  50.84      270   \n",
       "2    EWR  2013     1   4    5  30.92  21.02  66.34      240   \n",
       "3    EWR  2013     1   5   13  44.06  19.94  37.79      290   \n",
       "4    EWR  2013     1   6   21  42.08  26.06  52.73      270   \n",
       "\n",
       "           wind_speed wind_gust precip pressure visib             time_hour  \n",
       "0            16.11092        NA      0       NA    10  2013-01-01T18:00:00Z  \n",
       "1              5.7539        NA      0   1021.2    10  2013-01-03T02:00:00Z  \n",
       "2             11.5078        NA      0   1018.4    10  2013-01-04T10:00:00Z  \n",
       "3             11.5078  19.56326      0   1023.6    10  2013-01-05T18:00:00Z  \n",
       "4  10.357019999999999        NA      0   1016.7    10  2013-01-07T02:00:00Z  "
      ]
     },
     "execution_count": 6,
     "metadata": {},
     "output_type": "execute_result"
    }
   ],
   "source": [
    "sql_file = \"resources/weather.sql\"\n",
    "\n",
    "weather =  RedshiftSource(query_file=sql_file).read_csv()\n",
    "weather.head(5)"
   ]
  },
  {
   "cell_type": "markdown",
   "metadata": {},
   "source": [
    "## 2. Writing Data Out "
   ]
  },
  {
   "cell_type": "markdown",
   "metadata": {},
   "source": [
    "### 2.1 S3"
   ]
  },
  {
   "cell_type": "code",
   "execution_count": 7,
   "metadata": {},
   "outputs": [],
   "source": [
    "from orion.sources import S3Source"
   ]
  },
  {
   "cell_type": "code",
   "execution_count": 8,
   "metadata": {},
   "outputs": [],
   "source": [
    "S3Source(\n",
    "    bucket=\"kilimanjaro-prod-datalake\", \n",
    "    key=\"newstarter/datascience/weather.csv\"\n",
    ").write_csv(weather, index=False)"
   ]
  },
  {
   "cell_type": "markdown",
   "metadata": {},
   "source": [
    "### 2.2 Redshift"
   ]
  },
  {
   "cell_type": "markdown",
   "metadata": {},
   "source": [
    "In order to write to Redshift you need special environment variable called _Redshift IAM Role_.\n",
    "\n",
    "To get this variable you will have to make a support ticket (https://peak-bi.atlassian.net/servicedesk/customer/portals).\n",
    "\n",
    "Once you receive it from DevOps team member, you will need to do the following:\n",
    "\n",
    "1. Click on the \"+\" icon in the top left corner.\n",
    "2. Click on Terminal.\n",
    "3. Type in \"cd ~/\" to make sure you are in the user root directory.\n",
    "4. Type in \"nano .env\".\n",
    "5. At the bottom of the file enter: \"export REDSHIFT_IAM_ROLE=redshift-iam-role\". <br>\n",
    "    5.1 Where \"redshift-iam-role\" is the _Redshift IAM Role_.\n",
    "6. Save changes (CTRL+X > \"Y\" > ENTER)."
   ]
  },
  {
   "cell_type": "markdown",
   "metadata": {},
   "source": [
    "#### 2.2.1 Existing Table"
   ]
  },
  {
   "cell_type": "code",
   "execution_count": 9,
   "metadata": {},
   "outputs": [
    {
     "data": {
      "text/plain": [
       "True"
      ]
     },
     "execution_count": 9,
     "metadata": {},
     "output_type": "execute_result"
    }
   ],
   "source": [
    "from orion.contrib.envs import load_env\n",
    "load_env()"
   ]
  },
  {
   "cell_type": "code",
   "execution_count": 10,
   "metadata": {},
   "outputs": [],
   "source": [
    "from orion.sources import RedshiftSource"
   ]
  },
  {
   "cell_type": "markdown",
   "metadata": {},
   "source": [
    "We create fake data sample to how a new data sample can be appending to an existing table."
   ]
  },
  {
   "cell_type": "code",
   "execution_count": 11,
   "metadata": {},
   "outputs": [],
   "source": [
    "import numpy as np\n",
    "import pandas as pd\n",
    "\n",
    "from datetime import datetime"
   ]
  },
  {
   "cell_type": "code",
   "execution_count": 12,
   "metadata": {},
   "outputs": [
    {
     "data": {
      "text/html": [
       "<div>\n",
       "<style scoped>\n",
       "    .dataframe tbody tr th:only-of-type {\n",
       "        vertical-align: middle;\n",
       "    }\n",
       "\n",
       "    .dataframe tbody tr th {\n",
       "        vertical-align: top;\n",
       "    }\n",
       "\n",
       "    .dataframe thead th {\n",
       "        text-align: right;\n",
       "    }\n",
       "</style>\n",
       "<table border=\"1\" class=\"dataframe\">\n",
       "  <thead>\n",
       "    <tr style=\"text-align: right;\">\n",
       "      <th></th>\n",
       "      <th>origin</th>\n",
       "      <th>year</th>\n",
       "      <th>month</th>\n",
       "      <th>day</th>\n",
       "      <th>hour</th>\n",
       "      <th>temp</th>\n",
       "      <th>dewp</th>\n",
       "      <th>humid</th>\n",
       "      <th>wind_dir</th>\n",
       "      <th>wind_speed</th>\n",
       "      <th>wind_gust</th>\n",
       "      <th>precip</th>\n",
       "      <th>pressure</th>\n",
       "      <th>visib</th>\n",
       "      <th>time_hour</th>\n",
       "    </tr>\n",
       "  </thead>\n",
       "  <tbody>\n",
       "    <tr>\n",
       "      <th>0</th>\n",
       "      <td>JFK</td>\n",
       "      <td>2020</td>\n",
       "      <td>2</td>\n",
       "      <td>27</td>\n",
       "      <td>17</td>\n",
       "      <td>66.92</td>\n",
       "      <td>62.06</td>\n",
       "      <td>84.92</td>\n",
       "      <td>NA</td>\n",
       "      <td>8.05546</td>\n",
       "      <td>NA</td>\n",
       "      <td>0</td>\n",
       "      <td>1020.7</td>\n",
       "      <td>10</td>\n",
       "      <td>2020-02-27T17:01:42</td>\n",
       "    </tr>\n",
       "  </tbody>\n",
       "</table>\n",
       "</div>"
      ],
      "text/plain": [
       "  origin  year  month  day  hour   temp   dewp  humid wind_dir wind_speed  \\\n",
       "0    JFK  2020      2   27    17  66.92  62.06  84.92       NA    8.05546   \n",
       "\n",
       "  wind_gust precip pressure visib            time_hour  \n",
       "0        NA      0   1020.7    10  2020-02-27T17:01:42  "
      ]
     },
     "execution_count": 12,
     "metadata": {},
     "output_type": "execute_result"
    }
   ],
   "source": [
    "new_sample = pd.DataFrame([\n",
    "    {\n",
    "        'origin':np.random.choice(weather['origin']),\n",
    "        'year': datetime.now().year,\n",
    "        'month': datetime.now().month,\n",
    "        'day': datetime.now().day,\n",
    "        'hour': datetime.now().hour,\n",
    "        'temp': np.random.choice(weather['temp']),\n",
    "        'dewp': np.random.choice(weather['dewp']),\n",
    "        'humid': np.random.choice(weather['humid']),\n",
    "        'wind_dir': np.random.choice(weather['wind_dir']),\n",
    "        'wind_speed': np.random.choice(weather['wind_speed']),\n",
    "        'wind_gust': np.random.choice(weather['wind_gust']),\n",
    "        'precip': np.random.choice(weather['precip']),\n",
    "        'pressure': np.random.choice(weather['pressure']),\n",
    "        'visib': np.random.choice(weather['visib']),\n",
    "        'time_hour': datetime.now().strftime(format=\"%Y-%m-%dT%H:%M:%S%Z\")\n",
    "    }\n",
    "], columns=weather.columns)\n",
    "\n",
    "new_sample.head()"
   ]
  },
  {
   "cell_type": "code",
   "execution_count": 13,
   "metadata": {},
   "outputs": [],
   "source": [
    "RedshiftSource(schema='stage', table='weather').write_csv(new_sample, index=False)"
   ]
  },
  {
   "cell_type": "markdown",
   "metadata": {},
   "source": [
    "#### 2.2.2 New Table"
   ]
  },
  {
   "cell_type": "markdown",
   "metadata": {},
   "source": [
    "_Orion_ will automatically create a new table according to provided DF's schema if the 'table' parameter does not match to the existing table.\n",
    "\n",
    "`overwrite=True` flag will truncate the table and copy the contents of DF into it."
   ]
  },
  {
   "cell_type": "code",
   "execution_count": 14,
   "metadata": {},
   "outputs": [],
   "source": [
    "RedshiftSource(table=\"new_weather\", schema=\"stage\", overwrite=True).write_csv(weather, index=False)"
   ]
  },
  {
   "cell_type": "markdown",
   "metadata": {},
   "source": [
    "### 2.3 AIS"
   ]
  },
  {
   "cell_type": "markdown",
   "metadata": {},
   "source": [
    "Make sure to study Notebook **4. AIS API KEY** before proceeding."
   ]
  },
  {
   "cell_type": "code",
   "execution_count": 15,
   "metadata": {},
   "outputs": [],
   "source": [
    "import os"
   ]
  },
  {
   "cell_type": "code",
   "execution_count": 16,
   "metadata": {},
   "outputs": [
    {
     "data": {
      "text/plain": [
       "True"
      ]
     },
     "execution_count": 16,
     "metadata": {},
     "output_type": "execute_result"
    }
   ],
   "source": [
    "from orion.contrib.envs import load_env\n",
    "load_env()"
   ]
  },
  {
   "cell_type": "code",
   "execution_count": 17,
   "metadata": {},
   "outputs": [],
   "source": [
    "from orion.sources import AISSource"
   ]
  },
  {
   "cell_type": "code",
   "execution_count": 18,
   "metadata": {},
   "outputs": [],
   "source": [
    "AISSource(\n",
    "    target=\"weather/weather_20200227.csv\", \n",
    "    key=os.environ['AIS_API_KEY'], \n",
    "    token=os.environ['AIS_API_KEY']\n",
    ").write_csv(weather, index=False)"
   ]
  },
  {
   "cell_type": "markdown",
   "metadata": {},
   "source": [
    "You can verify success of the upload by going to _AIS > Outcomes > Downloads_"
   ]
  }
 ],
 "metadata": {
  "kernelspec": {
   "display_name": "python3.6",
   "language": "python",
   "name": "python3.6"
  },
  "language_info": {
   "codemirror_mode": {
    "name": "ipython",
    "version": 3
   },
   "file_extension": ".py",
   "mimetype": "text/x-python",
   "name": "python",
   "nbconvert_exporter": "python",
   "pygments_lexer": "ipython3",
   "version": "3.6.10"
  }
 },
 "nbformat": 4,
 "nbformat_minor": 4
}

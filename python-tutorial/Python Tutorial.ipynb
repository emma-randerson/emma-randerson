{
 "cells": [
  {
   "cell_type": "markdown",
   "metadata": {},
   "source": [
    "# Welcome to an Introduction to Python VV!\n",
    "Today we will be going through some basics of Python which will include:\n",
    "* What is it and use cases\n",
    "* Overview of Jupyter Notebooks\n",
    "* Some basic Python functionality\n",
    "* Orion basics\n",
    "* Data transformations\n",
    "* Machine learning\n",
    "* Plotting your data (if we have time)\n",
    "\n",
    "\n",
    "## What is Python?\n",
    "Pythons are nonvenomous snakes found in Asia, Africa and Australia! However we wont be discussing those today! Python is a general purpose progamming language which was made in the 90s! It can be used for both software engineering and analysis/data science! The use cases I normally use it for is building Machine Learning models, which in turn means I create features and do some data analysis (although R is also a good way to do these)\n",
    "\n",
    "## Useful Libraries \n",
    "There are several libraries that have been created for Python. To use these you run the code `import x as xxx`. The most useful ones that we use are:\n",
    "* `pandas` - used for data manipulation and analysis\n",
    "* `numpy` - for working with arrays\n",
    "* `sklearn` - (Sci-kit Learn) used for Machine Learning\n",
    "* `matplotlib` - for plotting\n",
    "* `seaborn` - another libary for plotting\n",
    "\n",
    "So lets import these. Normally you use `as xxx` to shorten the name. For `pandas` and `numpy` what I have used is standard\n"
   ]
  },
  {
   "cell_type": "code",
   "execution_count": 7,
   "metadata": {},
   "outputs": [],
   "source": [
    "import pandas as pd\n",
    "import numpy as np"
   ]
  },
  {
   "cell_type": "markdown",
   "metadata": {},
   "source": [
    "If a library is not installed, you can run a bash command in a cell like this!"
   ]
  },
  {
   "cell_type": "code",
   "execution_count": null,
   "metadata": {},
   "outputs": [],
   "source": [
    "! pip install sklearn"
   ]
  },
  {
   "cell_type": "markdown",
   "metadata": {},
   "source": [
    "## Jupyter Notebooks\n",
    "So there are two ways that we can use Python. One being in a notebook that I am showing you right now! Here we can do EDA, build models and create reports. Main jargon you use is:\n",
    "* Cells - These are the parts of the notebook that you can create re-runable code in easily\n",
    "* Kernal - This is what each notebook runs on\n",
    "\n",
    "Some quick shortcuts include:\n",
    "* `Shift Enter` - Run Cell\n",
    "* `ESC A` - Add cell above\n",
    "* `ESC B` - Add cell below\n",
    "* `ESC DD` - Delete cell\n",
    "\n",
    "There are lots of shortcuts which you can view in the drop downs above. \n"
   ]
  },
  {
   "cell_type": "markdown",
   "metadata": {},
   "source": [
    "## Python functionality\n",
    "There are lots of different ways to use Python!\n",
    "\n",
    "### Dictionaries and Lists\n",
    "Along with flat dataframes, Python can also handle dictionaries and lists! Dictionaries are a combination of keys and values where lists are just values! These can be used together as well. So you have have a list of dictionarys or a dictionary of lists!"
   ]
  },
  {
   "cell_type": "code",
   "execution_count": 8,
   "metadata": {},
   "outputs": [],
   "source": [
    "dictionary = {'name': 'vanessa virgo', 'age':26 }\n",
    "lists = [12,56, 99]"
   ]
  },
  {
   "cell_type": "code",
   "execution_count": 9,
   "metadata": {},
   "outputs": [
    {
     "data": {
      "text/plain": [
       "{'name': 'vanessa virgo', 'age': 26}"
      ]
     },
     "execution_count": 9,
     "metadata": {},
     "output_type": "execute_result"
    }
   ],
   "source": [
    "dictionary"
   ]
  },
  {
   "cell_type": "code",
   "execution_count": 10,
   "metadata": {},
   "outputs": [
    {
     "data": {
      "text/plain": [
       "[12, 56, 99]"
      ]
     },
     "execution_count": 10,
     "metadata": {},
     "output_type": "execute_result"
    }
   ],
   "source": [
    "lists"
   ]
  },
  {
   "cell_type": "markdown",
   "metadata": {},
   "source": [
    "### Slicing and Dicing\n",
    "Python allows you to slice and dice data however you wish! If we take `objects` from above we can subselect parts from the dictionary/list. To select from list elements you use [0] and dictonaries are [name]. First elements of a list start at 0!"
   ]
  },
  {
   "cell_type": "code",
   "execution_count": 14,
   "metadata": {},
   "outputs": [
    {
     "data": {
      "text/plain": [
       "12"
      ]
     },
     "execution_count": 14,
     "metadata": {},
     "output_type": "execute_result"
    }
   ],
   "source": [
    "lists[0]"
   ]
  },
  {
   "cell_type": "code",
   "execution_count": 15,
   "metadata": {},
   "outputs": [
    {
     "data": {
      "text/plain": [
       "'vanessa virgo'"
      ]
     },
     "execution_count": 15,
     "metadata": {},
     "output_type": "execute_result"
    }
   ],
   "source": [
    "dictionary['name']"
   ]
  },
  {
   "cell_type": "markdown",
   "metadata": {},
   "source": [
    "### Functions\n",
    "Most programming languages have the ability to create functions (re-runable code that can be called in scripts, packages etc). Some important things to remember when writing functions is:\n",
    "* **White space** is important!\n",
    "* Always define your functions with `def():`\n",
    "* Using `x:type` after you declare your variables is best practice!\n"
   ]
  },
  {
   "cell_type": "code",
   "execution_count": 18,
   "metadata": {},
   "outputs": [
    {
     "data": {
      "text/plain": [
       "4"
      ]
     },
     "execution_count": 18,
     "metadata": {},
     "output_type": "execute_result"
    }
   ],
   "source": [
    "def add_numbers(number1:int, number2:int):\n",
    "    return number1 + number2\n",
    "\n",
    "add_numbers(1,3)"
   ]
  },
  {
   "cell_type": "markdown",
   "metadata": {},
   "source": [
    "### If/Else statements\n",
    "If statements are a staple in many languages. Like functions, they have some requirement.\n",
    "* **White space** is needed"
   ]
  },
  {
   "cell_type": "code",
   "execution_count": 20,
   "metadata": {},
   "outputs": [
    {
     "name": "stdout",
     "output_type": "stream",
     "text": [
      "OF COURSE IT IS\n"
     ]
    }
   ],
   "source": [
    "if 1 == 1:\n",
    "    print('OF COURSE IT IS')\n",
    "else:\n",
    "    print('Something is wrong here!')"
   ]
  },
  {
   "cell_type": "markdown",
   "metadata": {},
   "source": [
    "## Orion\n",
    "Orion is a Peak created package to easily use Python and its functionality. Most of the functions within Orion use the structure of Python so even if you don't which to use it you can transfer the skills over! "
   ]
  },
  {
   "cell_type": "code",
   "execution_count": 21,
   "metadata": {},
   "outputs": [
    {
     "name": "stdout",
     "output_type": "stream",
     "text": [
      "Obtaining orion from git+https://github.com/PeakBI/orion.git#egg=orion\n",
      "  Updating ./src/orion clone\n",
      "  Running command git fetch -q --tags\n",
      "  Running command git reset --hard -q 0db0a66273b69a83b048d7effcd2b7996d362c60\n",
      "Requirement already satisfied: pandas>=0.25.3 in /home/vanessavirgos1/.local/lib/python3.6/site-packages (from orion) (1.1.5)\n",
      "Requirement already satisfied: numpy>=1.16.5 in /home/vanessavirgos1/.local/lib/python3.6/site-packages (from orion) (1.19.5)\n",
      "Requirement already satisfied: matplotlib>=3.3.0 in /home/vanessavirgos1/.local/lib/python3.6/site-packages (from orion) (3.3.4)\n",
      "Requirement already satisfied: jupyter>=1.0.0 in /opt/conda/lib/python3.6/site-packages (from orion) (1.0.0)\n",
      "Requirement already satisfied: networkx>=2.2 in /home/vanessavirgos1/.local/lib/python3.6/site-packages (from orion) (2.5)\n",
      "Requirement already satisfied: click>=7.0 in /home/vanessavirgos1/.local/lib/python3.6/site-packages (from orion) (7.1.2)\n",
      "Requirement already satisfied: boto3>=1.11.2 in /opt/conda/lib/python3.6/site-packages (from orion) (1.11.10)\n",
      "Requirement already satisfied: tqdm>=4.42.1 in /home/vanessavirgos1/.local/lib/python3.6/site-packages (from orion) (4.56.1)\n",
      "Requirement already satisfied: tornado>=5.1.1 in /opt/conda/lib/python3.6/site-packages (from orion) (5.1.1)\n",
      "Requirement already satisfied: docutils>=0.15 in /home/vanessavirgos1/.local/lib/python3.6/site-packages (from orion) (0.16)\n",
      "Requirement already satisfied: PyYAML>=5.3.1 in /home/vanessavirgos1/.local/lib/python3.6/site-packages (from orion) (5.4.1)\n",
      "Requirement already satisfied: cookiecutter>=1.6.0 in /home/vanessavirgos1/.local/lib/python3.6/site-packages (from orion) (1.7.2)\n",
      "Requirement already satisfied: python-dotenv>=0.10.3 in /opt/conda/lib/python3.6/site-packages (from orion) (0.10.3)\n",
      "Requirement already satisfied: SQLAlchemy>=1.3.0 in /home/vanessavirgos1/.local/lib/python3.6/site-packages (from orion) (1.3.23)\n",
      "Requirement already satisfied: psycopg2-binary>=2.8.6 in /home/vanessavirgos1/.local/lib/python3.6/site-packages (from orion) (2.8.6)\n",
      "Requirement already satisfied: requests[security]>=2.21.0 in /opt/conda/lib/python3.6/site-packages (from orion) (2.21.0)\n",
      "Requirement already satisfied: Faker>=4.0.0 in /home/vanessavirgos1/.local/lib/python3.6/site-packages (from orion) (6.1.1)\n",
      "Requirement already satisfied: nltk>=3.4.5 in /home/vanessavirgos1/.local/lib/python3.6/site-packages (from orion) (3.5)\n",
      "Requirement already satisfied: rpy2>=3.0.5 in /home/vanessavirgos1/.local/lib/python3.6/site-packages (from orion) (3.4.2)\n",
      "Requirement already satisfied: pytz>=2017.2 in /opt/conda/lib/python3.6/site-packages (from pandas>=0.25.3->orion) (2019.3)\n",
      "Requirement already satisfied: python-dateutil>=2.7.3 in /opt/conda/lib/python3.6/site-packages (from pandas>=0.25.3->orion) (2.8.1)\n",
      "Requirement already satisfied: pillow>=6.2.0 in /opt/conda/lib/python3.6/site-packages (from matplotlib>=3.3.0->orion) (7.0.0)\n",
      "Requirement already satisfied: cycler>=0.10 in /opt/conda/lib/python3.6/site-packages (from matplotlib>=3.3.0->orion) (0.10.0)\n",
      "Requirement already satisfied: kiwisolver>=1.0.1 in /opt/conda/lib/python3.6/site-packages (from matplotlib>=3.3.0->orion) (1.1.0)\n",
      "Requirement already satisfied: pyparsing!=2.0.4,!=2.1.2,!=2.1.6,>=2.0.3 in /opt/conda/lib/python3.6/site-packages (from matplotlib>=3.3.0->orion) (2.4.6)\n",
      "Requirement already satisfied: nbconvert in /opt/conda/lib/python3.6/site-packages (from jupyter>=1.0.0->orion) (5.6.1)\n",
      "Requirement already satisfied: ipykernel in /opt/conda/lib/python3.6/site-packages (from jupyter>=1.0.0->orion) (5.1.4)\n",
      "Requirement already satisfied: ipywidgets in /opt/conda/lib/python3.6/site-packages (from jupyter>=1.0.0->orion) (7.4.2)\n",
      "Requirement already satisfied: qtconsole in /opt/conda/lib/python3.6/site-packages (from jupyter>=1.0.0->orion) (4.6.0)\n",
      "Requirement already satisfied: jupyter-console in /opt/conda/lib/python3.6/site-packages (from jupyter>=1.0.0->orion) (6.0.0)\n",
      "Requirement already satisfied: notebook in /opt/conda/lib/python3.6/site-packages (from jupyter>=1.0.0->orion) (6.0.3)\n",
      "Requirement already satisfied: decorator>=4.3.0 in /opt/conda/lib/python3.6/site-packages (from networkx>=2.2->orion) (4.4.0)\n",
      "Requirement already satisfied: jmespath<1.0.0,>=0.7.1 in /opt/conda/lib/python3.6/site-packages (from boto3>=1.11.2->orion) (0.9.4)\n",
      "Requirement already satisfied: botocore<1.15.0,>=1.14.10 in /home/vanessavirgos1/.local/lib/python3.6/site-packages (from boto3>=1.11.2->orion) (1.14.17)\n",
      "Requirement already satisfied: s3transfer<0.4.0,>=0.3.0 in /home/vanessavirgos1/.local/lib/python3.6/site-packages (from boto3>=1.11.2->orion) (0.3.4)\n",
      "Requirement already satisfied: six>=1.10 in /opt/conda/lib/python3.6/site-packages (from cookiecutter>=1.6.0->orion) (1.12.0)\n",
      "Requirement already satisfied: poyo>=0.5.0 in /home/vanessavirgos1/.local/lib/python3.6/site-packages (from cookiecutter>=1.6.0->orion) (0.5.0)\n",
      "Requirement already satisfied: binaryornot>=0.4.4 in /home/vanessavirgos1/.local/lib/python3.6/site-packages (from cookiecutter>=1.6.0->orion) (0.4.4)\n",
      "Requirement already satisfied: Jinja2<3.0.0 in /opt/conda/lib/python3.6/site-packages (from cookiecutter>=1.6.0->orion) (2.10)\n",
      "Requirement already satisfied: python-slugify>=4.0.0 in /home/vanessavirgos1/.local/lib/python3.6/site-packages (from cookiecutter>=1.6.0->orion) (4.0.1)\n",
      "Requirement already satisfied: MarkupSafe<2.0.0 in /opt/conda/lib/python3.6/site-packages (from cookiecutter>=1.6.0->orion) (1.1.1)\n",
      "Requirement already satisfied: jinja2-time>=0.2.0 in /home/vanessavirgos1/.local/lib/python3.6/site-packages (from cookiecutter>=1.6.0->orion) (0.2.0)\n",
      "Requirement already satisfied: urllib3<1.25,>=1.21.1 in /opt/conda/lib/python3.6/site-packages (from requests[security]>=2.21.0->orion) (1.24.2)\n",
      "Requirement already satisfied: idna<2.9,>=2.5 in /opt/conda/lib/python3.6/site-packages (from requests[security]>=2.21.0->orion) (2.8)\n",
      "Requirement already satisfied: chardet<3.1.0,>=3.0.2 in /opt/conda/lib/python3.6/site-packages (from requests[security]>=2.21.0->orion) (3.0.4)\n",
      "Requirement already satisfied: certifi>=2017.4.17 in /opt/conda/lib/python3.6/site-packages (from requests[security]>=2.21.0->orion) (2019.11.28)\n",
      "Requirement already satisfied: cryptography>=1.3.4; extra == \"security\" in /opt/conda/lib/python3.6/site-packages (from requests[security]>=2.21.0->orion) (2.6.1)\n",
      "Requirement already satisfied: pyOpenSSL>=0.14; extra == \"security\" in /opt/conda/lib/python3.6/site-packages (from requests[security]>=2.21.0->orion) (19.0.0)\n",
      "Requirement already satisfied: text-unidecode==1.3 in /home/vanessavirgos1/.local/lib/python3.6/site-packages (from Faker>=4.0.0->orion) (1.3)\n",
      "Requirement already satisfied: regex in /home/vanessavirgos1/.local/lib/python3.6/site-packages (from nltk>=3.4.5->orion) (2020.11.13)\n",
      "Requirement already satisfied: joblib in /home/vanessavirgos1/.local/lib/python3.6/site-packages (from nltk>=3.4.5->orion) (1.0.1)\n",
      "Requirement already satisfied: cffi>=1.10.0 in /opt/conda/lib/python3.6/site-packages (from rpy2>=3.0.5->orion) (1.12.3)\n",
      "Requirement already satisfied: tzlocal in /opt/conda/lib/python3.6/site-packages (from rpy2>=3.0.5->orion) (2.0.0)\n",
      "Requirement already satisfied: setuptools in /opt/conda/lib/python3.6/site-packages (from kiwisolver>=1.0.1->matplotlib>=3.3.0->orion) (45.1.0.post20200127)\n",
      "Requirement already satisfied: nbformat>=4.4 in /opt/conda/lib/python3.6/site-packages (from nbconvert->jupyter>=1.0.0->orion) (5.0.4)\n",
      "Requirement already satisfied: bleach in /opt/conda/lib/python3.6/site-packages (from nbconvert->jupyter>=1.0.0->orion) (3.1.0)\n",
      "Requirement already satisfied: jupyter-core in /opt/conda/lib/python3.6/site-packages (from nbconvert->jupyter>=1.0.0->orion) (4.6.1)\n",
      "Requirement already satisfied: pandocfilters>=1.4.1 in /opt/conda/lib/python3.6/site-packages (from nbconvert->jupyter>=1.0.0->orion) (1.4.2)\n",
      "Requirement already satisfied: entrypoints>=0.2.2 in /opt/conda/lib/python3.6/site-packages (from nbconvert->jupyter>=1.0.0->orion) (0.3)\n",
      "Requirement already satisfied: mistune<2,>=0.8.1 in /opt/conda/lib/python3.6/site-packages (from nbconvert->jupyter>=1.0.0->orion) (0.8.4)\n",
      "Requirement already satisfied: testpath in /opt/conda/lib/python3.6/site-packages (from nbconvert->jupyter>=1.0.0->orion) (0.4.4)\n",
      "Requirement already satisfied: traitlets>=4.2 in /opt/conda/lib/python3.6/site-packages (from nbconvert->jupyter>=1.0.0->orion) (4.3.2)\n",
      "Requirement already satisfied: pygments in /opt/conda/lib/python3.6/site-packages (from nbconvert->jupyter>=1.0.0->orion) (2.5.2)\n",
      "Requirement already satisfied: defusedxml in /opt/conda/lib/python3.6/site-packages (from nbconvert->jupyter>=1.0.0->orion) (0.6.0)\n",
      "Requirement already satisfied: ipython>=5.0.0 in /opt/conda/lib/python3.6/site-packages (from ipykernel->jupyter>=1.0.0->orion) (7.5.0)\n",
      "Requirement already satisfied: jupyter-client in /opt/conda/lib/python3.6/site-packages (from ipykernel->jupyter>=1.0.0->orion) (5.3.4)\n",
      "Requirement already satisfied: widgetsnbextension~=3.4.0 in /opt/conda/lib/python3.6/site-packages (from ipywidgets->jupyter>=1.0.0->orion) (3.4.2)\n",
      "Requirement already satisfied: ipython-genutils in /opt/conda/lib/python3.6/site-packages (from qtconsole->jupyter>=1.0.0->orion) (0.2.0)\n",
      "Requirement already satisfied: prompt-toolkit<2.1.0,>=2.0.0 in /opt/conda/lib/python3.6/site-packages (from jupyter-console->jupyter>=1.0.0->orion) (2.0.10)\n",
      "Requirement already satisfied: Send2Trash in /opt/conda/lib/python3.6/site-packages (from notebook->jupyter>=1.0.0->orion) (1.5.0)\n",
      "Requirement already satisfied: prometheus-client in /opt/conda/lib/python3.6/site-packages (from notebook->jupyter>=1.0.0->orion) (0.7.1)\n",
      "Requirement already satisfied: pyzmq>=17 in /opt/conda/lib/python3.6/site-packages (from notebook->jupyter>=1.0.0->orion) (18.0.1)\n",
      "Requirement already satisfied: terminado>=0.8.1 in /opt/conda/lib/python3.6/site-packages (from notebook->jupyter>=1.0.0->orion) (0.8.3)\n",
      "Requirement already satisfied: arrow in /home/vanessavirgos1/.local/lib/python3.6/site-packages (from jinja2-time>=0.2.0->cookiecutter>=1.6.0->orion) (0.17.0)\n",
      "Requirement already satisfied: asn1crypto>=0.21.0 in /opt/conda/lib/python3.6/site-packages (from cryptography>=1.3.4; extra == \"security\"->requests[security]>=2.21.0->orion) (0.24.0)\n",
      "Requirement already satisfied: pycparser in /opt/conda/lib/python3.6/site-packages (from cffi>=1.10.0->rpy2>=3.0.5->orion) (2.19)\n",
      "Requirement already satisfied: jsonschema!=2.5.0,>=2.4 in /opt/conda/lib/python3.6/site-packages (from nbformat>=4.4->nbconvert->jupyter>=1.0.0->orion) (3.2.0)\n",
      "Requirement already satisfied: webencodings in /opt/conda/lib/python3.6/site-packages (from bleach->nbconvert->jupyter>=1.0.0->orion) (0.5.1)\n",
      "Requirement already satisfied: pickleshare in /opt/conda/lib/python3.6/site-packages (from ipython>=5.0.0->ipykernel->jupyter>=1.0.0->orion) (0.7.5)\n",
      "Requirement already satisfied: pexpect; sys_platform != \"win32\" in /opt/conda/lib/python3.6/site-packages (from ipython>=5.0.0->ipykernel->jupyter>=1.0.0->orion) (4.8.0)\n",
      "Requirement already satisfied: jedi>=0.10 in /opt/conda/lib/python3.6/site-packages (from ipython>=5.0.0->ipykernel->jupyter>=1.0.0->orion) (0.16.0)\n",
      "Requirement already satisfied: backcall in /opt/conda/lib/python3.6/site-packages (from ipython>=5.0.0->ipykernel->jupyter>=1.0.0->orion) (0.1.0)\n",
      "Requirement already satisfied: wcwidth in /opt/conda/lib/python3.6/site-packages (from prompt-toolkit<2.1.0,>=2.0.0->jupyter-console->jupyter>=1.0.0->orion) (0.1.8)\n",
      "Requirement already satisfied: pyrsistent>=0.14.0 in /opt/conda/lib/python3.6/site-packages (from jsonschema!=2.5.0,>=2.4->nbformat>=4.4->nbconvert->jupyter>=1.0.0->orion) (0.15.7)\n",
      "Requirement already satisfied: importlib-metadata; python_version < \"3.8\" in /opt/conda/lib/python3.6/site-packages (from jsonschema!=2.5.0,>=2.4->nbformat>=4.4->nbconvert->jupyter>=1.0.0->orion) (1.5.0)\n",
      "Requirement already satisfied: attrs>=17.4.0 in /opt/conda/lib/python3.6/site-packages (from jsonschema!=2.5.0,>=2.4->nbformat>=4.4->nbconvert->jupyter>=1.0.0->orion) (19.3.0)\n",
      "Requirement already satisfied: ptyprocess>=0.5 in /opt/conda/lib/python3.6/site-packages (from pexpect; sys_platform != \"win32\"->ipython>=5.0.0->ipykernel->jupyter>=1.0.0->orion) (0.6.0)\n",
      "Requirement already satisfied: parso>=0.5.2 in /opt/conda/lib/python3.6/site-packages (from jedi>=0.10->ipython>=5.0.0->ipykernel->jupyter>=1.0.0->orion) (0.6.1)\n",
      "Requirement already satisfied: zipp>=0.5 in /opt/conda/lib/python3.6/site-packages (from importlib-metadata; python_version < \"3.8\"->jsonschema!=2.5.0,>=2.4->nbformat>=4.4->nbconvert->jupyter>=1.0.0->orion) (2.1.0)\n",
      "Installing collected packages: orion\n",
      "  Attempting uninstall: orion\n",
      "    Found existing installation: orion 0.5.5\n",
      "    Uninstalling orion-0.5.5:\n",
      "      Successfully uninstalled orion-0.5.5\n",
      "  Running setup.py develop for orion\n",
      "Successfully installed orion\n"
     ]
    }
   ],
   "source": [
    "! pip install -e git+https://github.com/PeakBI/orion.git#egg=orion --user"
   ]
  },
  {
   "cell_type": "markdown",
   "metadata": {},
   "source": [
    "### Reading in data from Redshift\n",
    "You can use Orion to read data in and out of Redshift much like you would use `pandas`. To do this first we `import` the function."
   ]
  },
  {
   "cell_type": "code",
   "execution_count": 22,
   "metadata": {},
   "outputs": [],
   "source": [
    "# Import Packages\n",
    "from orion.sources import RedshiftSource\n",
    "from orion.sources.io import read_csv\n",
    "from orion.sources.config import RedshiftConfig"
   ]
  },
  {
   "cell_type": "markdown",
   "metadata": {},
   "source": [
    "Now to create the connection. Remember your env variables must not be empty. to do this use:"
   ]
  },
  {
   "cell_type": "code",
   "execution_count": 23,
   "metadata": {},
   "outputs": [],
   "source": [
    "import os\n",
    "os.environ[\"TENANT\"] = 'newstarter'"
   ]
  },
  {
   "cell_type": "markdown",
   "metadata": {},
   "source": [
    "You will need to run this for:\n",
    "* `TENANT`\n",
    "* `REDSHIFT_USERNAME`\n",
    "* `REDSHIFT_PASSWORD`\n",
    "* `REDSHIFT_HOST`"
   ]
  },
  {
   "cell_type": "code",
   "execution_count": 24,
   "metadata": {},
   "outputs": [],
   "source": [
    "conf = RedshiftConfig()\n",
    "query = \"select top 10 * from dunnhumby.products\"\n",
    "df = read_csv(RedshiftSource(**conf, query=query))"
   ]
  },
  {
   "cell_type": "markdown",
   "metadata": {},
   "source": [
    "The `read_csv()` function is similar to `pd.read_csv()` function you can use to read local files within your notebook space"
   ]
  },
  {
   "cell_type": "markdown",
   "metadata": {},
   "source": [
    "### Writing to S3\n",
    "You can also use Orion to save data to S3/Redshift. I personally save data to S3 then use a `SQL` command called `COPY` to copy data into S3. For this example I will show you how to save data to S3. "
   ]
  },
  {
   "cell_type": "code",
   "execution_count": 26,
   "metadata": {},
   "outputs": [],
   "source": [
    "from orion.sources import S3Source\n",
    "from orion.sources.io import write_csv"
   ]
  },
  {
   "cell_type": "code",
   "execution_count": 27,
   "metadata": {},
   "outputs": [],
   "source": [
    "write_csv(df,S3Source(bucket = 'kilimanjaro-prod-datalake', \n",
    "                      key = 'newstarter/datascience/pythontraining/demo.csv'), index=False)"
   ]
  },
  {
   "cell_type": "code",
   "execution_count": 28,
   "metadata": {},
   "outputs": [
    {
     "data": {
      "text/html": [
       "<div>\n",
       "<style scoped>\n",
       "    .dataframe tbody tr th:only-of-type {\n",
       "        vertical-align: middle;\n",
       "    }\n",
       "\n",
       "    .dataframe tbody tr th {\n",
       "        vertical-align: top;\n",
       "    }\n",
       "\n",
       "    .dataframe thead th {\n",
       "        text-align: right;\n",
       "    }\n",
       "</style>\n",
       "<table border=\"1\" class=\"dataframe\">\n",
       "  <thead>\n",
       "    <tr style=\"text-align: right;\">\n",
       "      <th></th>\n",
       "      <th>product_id</th>\n",
       "      <th>manufacturer</th>\n",
       "      <th>department</th>\n",
       "      <th>brand</th>\n",
       "      <th>commodity_desc</th>\n",
       "      <th>sub_commodity_desc</th>\n",
       "      <th>curr_size_of_product</th>\n",
       "    </tr>\n",
       "  </thead>\n",
       "  <tbody>\n",
       "    <tr>\n",
       "      <th>0</th>\n",
       "      <td>27633</td>\n",
       "      <td>69</td>\n",
       "      <td>GROCERY</td>\n",
       "      <td>Private</td>\n",
       "      <td>HISPANIC</td>\n",
       "      <td>MEXICAN BEANS REFRIED</td>\n",
       "      <td>16 OZ</td>\n",
       "    </tr>\n",
       "    <tr>\n",
       "      <th>1</th>\n",
       "      <td>28143</td>\n",
       "      <td>69</td>\n",
       "      <td>GROCERY</td>\n",
       "      <td>Private</td>\n",
       "      <td>DRY MIX DESSERTS</td>\n",
       "      <td>GELATIN</td>\n",
       "      <td>.3 OZ</td>\n",
       "    </tr>\n",
       "    <tr>\n",
       "      <th>2</th>\n",
       "      <td>29037</td>\n",
       "      <td>69</td>\n",
       "      <td>GROCERY</td>\n",
       "      <td>Private</td>\n",
       "      <td>HOT CEREAL</td>\n",
       "      <td>STANDARD OATMEAL</td>\n",
       "      <td>42 OZ</td>\n",
       "    </tr>\n",
       "    <tr>\n",
       "      <th>3</th>\n",
       "      <td>30177</td>\n",
       "      <td>544</td>\n",
       "      <td>GROCERY</td>\n",
       "      <td>National</td>\n",
       "      <td>BAG SNACKS</td>\n",
       "      <td>TORTILLA/NACHO CHIPS</td>\n",
       "      <td>11.5 OZ</td>\n",
       "    </tr>\n",
       "    <tr>\n",
       "      <th>4</th>\n",
       "      <td>31534</td>\n",
       "      <td>69</td>\n",
       "      <td>GROCERY</td>\n",
       "      <td>Private</td>\n",
       "      <td>SHORTENING/OIL</td>\n",
       "      <td>CORN OIL</td>\n",
       "      <td>48 OZ</td>\n",
       "    </tr>\n",
       "    <tr>\n",
       "      <th>5</th>\n",
       "      <td>32553</td>\n",
       "      <td>69</td>\n",
       "      <td>GROCERY</td>\n",
       "      <td>Private</td>\n",
       "      <td>FLUID MILK PRODUCTS</td>\n",
       "      <td>FLUID MILK WHITE ONLY</td>\n",
       "      <td></td>\n",
       "    </tr>\n",
       "    <tr>\n",
       "      <th>6</th>\n",
       "      <td>33614</td>\n",
       "      <td>436</td>\n",
       "      <td>GROCERY</td>\n",
       "      <td>National</td>\n",
       "      <td>FRZN JCE CONC/DRNKS</td>\n",
       "      <td>FRZN CONC UNDER 50% JUICE</td>\n",
       "      <td>12 OZ</td>\n",
       "    </tr>\n",
       "    <tr>\n",
       "      <th>7</th>\n",
       "      <td>34426</td>\n",
       "      <td>1075</td>\n",
       "      <td>GROCERY</td>\n",
       "      <td>National</td>\n",
       "      <td>CRACKERS/MISC BKD FD</td>\n",
       "      <td>SNACK CRACKERS</td>\n",
       "      <td>9.5 OZ</td>\n",
       "    </tr>\n",
       "    <tr>\n",
       "      <th>8</th>\n",
       "      <td>35334</td>\n",
       "      <td>1251</td>\n",
       "      <td>GROCERY</td>\n",
       "      <td>National</td>\n",
       "      <td>PASTA SAUCE</td>\n",
       "      <td>MAINSTREAM</td>\n",
       "      <td>26 OZ</td>\n",
       "    </tr>\n",
       "    <tr>\n",
       "      <th>9</th>\n",
       "      <td>36375</td>\n",
       "      <td>1251</td>\n",
       "      <td>GROCERY</td>\n",
       "      <td>National</td>\n",
       "      <td>FROZEN PIE/DESSERTS</td>\n",
       "      <td>FROZEN CAKES/ALL TYPES INCLUDI</td>\n",
       "      <td>19.6 OZ</td>\n",
       "    </tr>\n",
       "  </tbody>\n",
       "</table>\n",
       "</div>"
      ],
      "text/plain": [
       "   product_id  manufacturer department     brand        commodity_desc  \\\n",
       "0       27633            69    GROCERY   Private              HISPANIC   \n",
       "1       28143            69    GROCERY   Private      DRY MIX DESSERTS   \n",
       "2       29037            69    GROCERY   Private            HOT CEREAL   \n",
       "3       30177           544    GROCERY  National            BAG SNACKS   \n",
       "4       31534            69    GROCERY   Private        SHORTENING/OIL   \n",
       "5       32553            69    GROCERY   Private   FLUID MILK PRODUCTS   \n",
       "6       33614           436    GROCERY  National   FRZN JCE CONC/DRNKS   \n",
       "7       34426          1075    GROCERY  National  CRACKERS/MISC BKD FD   \n",
       "8       35334          1251    GROCERY  National           PASTA SAUCE   \n",
       "9       36375          1251    GROCERY  National   FROZEN PIE/DESSERTS   \n",
       "\n",
       "               sub_commodity_desc curr_size_of_product  \n",
       "0           MEXICAN BEANS REFRIED                16 OZ  \n",
       "1                         GELATIN                .3 OZ  \n",
       "2                STANDARD OATMEAL                42 OZ  \n",
       "3            TORTILLA/NACHO CHIPS              11.5 OZ  \n",
       "4                        CORN OIL                48 OZ  \n",
       "5           FLUID MILK WHITE ONLY                       \n",
       "6       FRZN CONC UNDER 50% JUICE                12 OZ  \n",
       "7                  SNACK CRACKERS               9.5 OZ  \n",
       "8                      MAINSTREAM                26 OZ  \n",
       "9  FROZEN CAKES/ALL TYPES INCLUDI              19.6 OZ  "
      ]
     },
     "execution_count": 28,
     "metadata": {},
     "output_type": "execute_result"
    }
   ],
   "source": [
    "read_csv(S3Source(bucket = 'kilimanjaro-prod-datalake', \n",
    "                      key = 'newstarter/datascience/pythontraining/demo.csv'))"
   ]
  },
  {
   "cell_type": "markdown",
   "metadata": {},
   "source": [
    "If you choose not to use Orion you can use `boto3`. Within this you can:\n",
    "* View whats in a bucket\n",
    "* Read any types of files\n",
    "\n",
    "To use this:"
   ]
  },
  {
   "cell_type": "code",
   "execution_count": 29,
   "metadata": {},
   "outputs": [
    {
     "data": {
      "text/plain": [
       "{'ResponseMetadata': {'RequestId': '2AFF6976C0FCF96B',\n",
       "  'HostId': '/O07hfl8HQhr/pE4WDMb6ja90IWox9MiF19ybp6NrYBBFOaQOFso3PwSbBgfC4A3aZRtRHynYBk=',\n",
       "  'HTTPStatusCode': 200,\n",
       "  'HTTPHeaders': {'x-amz-id-2': '/O07hfl8HQhr/pE4WDMb6ja90IWox9MiF19ybp6NrYBBFOaQOFso3PwSbBgfC4A3aZRtRHynYBk=',\n",
       "   'x-amz-request-id': '2AFF6976C0FCF96B',\n",
       "   'date': 'Fri, 12 Feb 2021 15:18:30 GMT',\n",
       "   'x-amz-bucket-region': 'eu-west-1',\n",
       "   'content-type': 'application/xml',\n",
       "   'transfer-encoding': 'chunked',\n",
       "   'server': 'AmazonS3'},\n",
       "  'RetryAttempts': 1},\n",
       " 'IsTruncated': False,\n",
       " 'Marker': '',\n",
       " 'Contents': [{'Key': 'newstarter/datascience/pythontraining/demo.csv',\n",
       "   'LastModified': datetime.datetime(2021, 2, 12, 15, 17, 52, tzinfo=tzlocal()),\n",
       "   'ETag': '\"c1a1bf76150178df4952d59ed6f5990e\"',\n",
       "   'Size': 912,\n",
       "   'StorageClass': 'STANDARD',\n",
       "   'Owner': {'DisplayName': 'aws-prod',\n",
       "    'ID': '237deaa8f1dbbba706e273fc913c6ad84913cba9a1190d7d3ac77ac300721e01'}}],\n",
       " 'Name': 'kilimanjaro-prod-datalake',\n",
       " 'Prefix': 'newstarter/datascience/pythontraining/',\n",
       " 'MaxKeys': 1000,\n",
       " 'EncodingType': 'url'}"
      ]
     },
     "execution_count": 29,
     "metadata": {},
     "output_type": "execute_result"
    }
   ],
   "source": [
    "import boto3\n",
    "s3 = boto3.client('s3')\n",
    "objects = s3.list_objects(Bucket='kilimanjaro-prod-datalake',Prefix = 'newstarter/datascience/pythontraining/')\n",
    "\n",
    "objects"
   ]
  },
  {
   "cell_type": "markdown",
   "metadata": {},
   "source": [
    "## Data Transformations\n",
    "So now that you have some data time for the fun bit! There are lots of different things we can use `pandas` for to manipulate and analyse the data we have! I will run through: \n",
    "\n",
    "* Checking the data\n",
    "* Filtering data\n",
    "* Creating new columns\n",
    "* Joining data\n",
    "* Aggregating the data\n",
    "\n",
    "### Check the data\n",
    "First lets pull out both tables we will be using"
   ]
  },
  {
   "cell_type": "code",
   "execution_count": 30,
   "metadata": {},
   "outputs": [],
   "source": [
    "products_query = \"select  * from dunnhumby.products\"\n",
    "products = read_csv(RedshiftSource(**conf, query=products_query))\n",
    "\n",
    "transactions_query = \"select * from dunnhumby.transactions\"\n",
    "transactions = read_csv(RedshiftSource(**conf, query=transactions_query))"
   ]
  },
  {
   "cell_type": "code",
   "execution_count": 31,
   "metadata": {},
   "outputs": [
    {
     "data": {
      "text/html": [
       "<div>\n",
       "<style scoped>\n",
       "    .dataframe tbody tr th:only-of-type {\n",
       "        vertical-align: middle;\n",
       "    }\n",
       "\n",
       "    .dataframe tbody tr th {\n",
       "        vertical-align: top;\n",
       "    }\n",
       "\n",
       "    .dataframe thead th {\n",
       "        text-align: right;\n",
       "    }\n",
       "</style>\n",
       "<table border=\"1\" class=\"dataframe\">\n",
       "  <thead>\n",
       "    <tr style=\"text-align: right;\">\n",
       "      <th></th>\n",
       "      <th>product_id</th>\n",
       "      <th>manufacturer</th>\n",
       "      <th>department</th>\n",
       "      <th>brand</th>\n",
       "      <th>commodity_desc</th>\n",
       "      <th>sub_commodity_desc</th>\n",
       "      <th>curr_size_of_product</th>\n",
       "    </tr>\n",
       "  </thead>\n",
       "  <tbody>\n",
       "    <tr>\n",
       "      <th>0</th>\n",
       "      <td>27510</td>\n",
       "      <td>69</td>\n",
       "      <td>GROCERY</td>\n",
       "      <td>Private</td>\n",
       "      <td>VEGETABLES - SHELF STABLE</td>\n",
       "      <td>MIXED VEGETABLES</td>\n",
       "      <td>15 OZ</td>\n",
       "    </tr>\n",
       "    <tr>\n",
       "      <th>1</th>\n",
       "      <td>28102</td>\n",
       "      <td>69</td>\n",
       "      <td>GROCERY</td>\n",
       "      <td>Private</td>\n",
       "      <td>FD WRAPS/BAGS/TRSH BG</td>\n",
       "      <td>FREEZER BAGS</td>\n",
       "      <td>20 CT</td>\n",
       "    </tr>\n",
       "    <tr>\n",
       "      <th>2</th>\n",
       "      <td>28919</td>\n",
       "      <td>236</td>\n",
       "      <td>GROCERY</td>\n",
       "      <td>National</td>\n",
       "      <td>REFRGRATD DOUGH PRODUCTS</td>\n",
       "      <td>REFRIGERATED COOKIES-CHUB</td>\n",
       "      <td>16.5 OZ</td>\n",
       "    </tr>\n",
       "    <tr>\n",
       "      <th>3</th>\n",
       "      <td>30003</td>\n",
       "      <td>397</td>\n",
       "      <td>MEAT-PCKGD</td>\n",
       "      <td>National</td>\n",
       "      <td>FROZEN MEAT</td>\n",
       "      <td>FRZN BREADED PREPARED CHICK</td>\n",
       "      <td>9 OZ</td>\n",
       "    </tr>\n",
       "    <tr>\n",
       "      <th>4</th>\n",
       "      <td>31412</td>\n",
       "      <td>693</td>\n",
       "      <td>DRUG GM</td>\n",
       "      <td>National</td>\n",
       "      <td>CANDY - CHECKLANE</td>\n",
       "      <td>CANDY BARS (SINGLES)(INCLUDING</td>\n",
       "      <td>1.55 OZ</td>\n",
       "    </tr>\n",
       "  </tbody>\n",
       "</table>\n",
       "</div>"
      ],
      "text/plain": [
       "   product_id  manufacturer  department     brand             commodity_desc  \\\n",
       "0       27510            69     GROCERY   Private  VEGETABLES - SHELF STABLE   \n",
       "1       28102            69     GROCERY   Private      FD WRAPS/BAGS/TRSH BG   \n",
       "2       28919           236     GROCERY  National   REFRGRATD DOUGH PRODUCTS   \n",
       "3       30003           397  MEAT-PCKGD  National                FROZEN MEAT   \n",
       "4       31412           693     DRUG GM  National          CANDY - CHECKLANE   \n",
       "\n",
       "               sub_commodity_desc curr_size_of_product  \n",
       "0                MIXED VEGETABLES                15 OZ  \n",
       "1                    FREEZER BAGS                20 CT  \n",
       "2       REFRIGERATED COOKIES-CHUB              16.5 OZ  \n",
       "3     FRZN BREADED PREPARED CHICK                 9 OZ  \n",
       "4  CANDY BARS (SINGLES)(INCLUDING              1.55 OZ  "
      ]
     },
     "execution_count": 31,
     "metadata": {},
     "output_type": "execute_result"
    }
   ],
   "source": [
    "products.head() # Take a look at the first 5 rows of the data"
   ]
  },
  {
   "cell_type": "code",
   "execution_count": 32,
   "metadata": {},
   "outputs": [
    {
     "data": {
      "text/html": [
       "<div>\n",
       "<style scoped>\n",
       "    .dataframe tbody tr th:only-of-type {\n",
       "        vertical-align: middle;\n",
       "    }\n",
       "\n",
       "    .dataframe tbody tr th {\n",
       "        vertical-align: top;\n",
       "    }\n",
       "\n",
       "    .dataframe thead th {\n",
       "        text-align: right;\n",
       "    }\n",
       "</style>\n",
       "<table border=\"1\" class=\"dataframe\">\n",
       "  <thead>\n",
       "    <tr style=\"text-align: right;\">\n",
       "      <th></th>\n",
       "      <th>household_key</th>\n",
       "      <th>basket_id</th>\n",
       "      <th>day</th>\n",
       "      <th>product_id</th>\n",
       "      <th>quantity</th>\n",
       "      <th>sales_value</th>\n",
       "      <th>store_id</th>\n",
       "      <th>retail_disc</th>\n",
       "      <th>trans_time</th>\n",
       "      <th>week_no</th>\n",
       "      <th>coupon_disc</th>\n",
       "      <th>coupon_match_disc</th>\n",
       "    </tr>\n",
       "  </thead>\n",
       "  <tbody>\n",
       "    <tr>\n",
       "      <th>0</th>\n",
       "      <td>2375</td>\n",
       "      <td>2.698485e+10</td>\n",
       "      <td>1</td>\n",
       "      <td>1033142</td>\n",
       "      <td>1</td>\n",
       "      <td>0.82</td>\n",
       "      <td>364</td>\n",
       "      <td>0.0</td>\n",
       "      <td>1631</td>\n",
       "      <td>1</td>\n",
       "      <td>0.0</td>\n",
       "      <td>0.0</td>\n",
       "    </tr>\n",
       "    <tr>\n",
       "      <th>1</th>\n",
       "      <td>1172</td>\n",
       "      <td>2.698503e+10</td>\n",
       "      <td>1</td>\n",
       "      <td>981760</td>\n",
       "      <td>1</td>\n",
       "      <td>0.79</td>\n",
       "      <td>396</td>\n",
       "      <td>-0.6</td>\n",
       "      <td>946</td>\n",
       "      <td>1</td>\n",
       "      <td>0.0</td>\n",
       "      <td>0.0</td>\n",
       "    </tr>\n",
       "    <tr>\n",
       "      <th>2</th>\n",
       "      <td>1060</td>\n",
       "      <td>2.698504e+10</td>\n",
       "      <td>1</td>\n",
       "      <td>942708</td>\n",
       "      <td>1</td>\n",
       "      <td>5.24</td>\n",
       "      <td>315</td>\n",
       "      <td>0.0</td>\n",
       "      <td>1251</td>\n",
       "      <td>1</td>\n",
       "      <td>0.0</td>\n",
       "      <td>0.0</td>\n",
       "    </tr>\n",
       "    <tr>\n",
       "      <th>3</th>\n",
       "      <td>744</td>\n",
       "      <td>2.698517e+10</td>\n",
       "      <td>1</td>\n",
       "      <td>5978648</td>\n",
       "      <td>0</td>\n",
       "      <td>0.00</td>\n",
       "      <td>31582</td>\n",
       "      <td>0.0</td>\n",
       "      <td>1119</td>\n",
       "      <td>1</td>\n",
       "      <td>0.0</td>\n",
       "      <td>0.0</td>\n",
       "    </tr>\n",
       "    <tr>\n",
       "      <th>4</th>\n",
       "      <td>718</td>\n",
       "      <td>2.698536e+10</td>\n",
       "      <td>1</td>\n",
       "      <td>830503</td>\n",
       "      <td>1</td>\n",
       "      <td>2.99</td>\n",
       "      <td>324</td>\n",
       "      <td>-1.0</td>\n",
       "      <td>1115</td>\n",
       "      <td>1</td>\n",
       "      <td>-1.0</td>\n",
       "      <td>0.0</td>\n",
       "    </tr>\n",
       "  </tbody>\n",
       "</table>\n",
       "</div>"
      ],
      "text/plain": [
       "   household_key     basket_id  day  product_id  quantity  sales_value  \\\n",
       "0           2375  2.698485e+10    1     1033142         1         0.82   \n",
       "1           1172  2.698503e+10    1      981760         1         0.79   \n",
       "2           1060  2.698504e+10    1      942708         1         5.24   \n",
       "3            744  2.698517e+10    1     5978648         0         0.00   \n",
       "4            718  2.698536e+10    1      830503         1         2.99   \n",
       "\n",
       "   store_id  retail_disc  trans_time  week_no  coupon_disc  coupon_match_disc  \n",
       "0       364          0.0        1631        1          0.0                0.0  \n",
       "1       396         -0.6         946        1          0.0                0.0  \n",
       "2       315          0.0        1251        1          0.0                0.0  \n",
       "3     31582          0.0        1119        1          0.0                0.0  \n",
       "4       324         -1.0        1115        1         -1.0                0.0  "
      ]
     },
     "execution_count": 32,
     "metadata": {},
     "output_type": "execute_result"
    }
   ],
   "source": [
    "transactions.head()"
   ]
  },
  {
   "cell_type": "code",
   "execution_count": 33,
   "metadata": {},
   "outputs": [
    {
     "name": "stdout",
     "output_type": "stream",
     "text": [
      "The number of rows in the transactions table is 2595732\n",
      "The number of rows in the product table is 92353\n"
     ]
    }
   ],
   "source": [
    "print('The number of rows in the transactions table is {}'.format(len(transactions))) # Can join strings together\n",
    "print('The number of rows in the product table is {}'.format(len(products)))"
   ]
  },
  {
   "cell_type": "code",
   "execution_count": 34,
   "metadata": {},
   "outputs": [
    {
     "data": {
      "text/plain": [
       "household_key        0\n",
       "basket_id            0\n",
       "day                  0\n",
       "product_id           0\n",
       "quantity             0\n",
       "sales_value          0\n",
       "store_id             0\n",
       "retail_disc          0\n",
       "trans_time           0\n",
       "week_no              0\n",
       "coupon_disc          0\n",
       "coupon_match_disc    0\n",
       "dtype: int64"
      ]
     },
     "execution_count": 34,
     "metadata": {},
     "output_type": "execute_result"
    }
   ],
   "source": [
    "# Check nulls in each column\n",
    "transactions.isnull().sum()"
   ]
  },
  {
   "cell_type": "code",
   "execution_count": 35,
   "metadata": {},
   "outputs": [
    {
     "data": {
      "text/html": [
       "<div>\n",
       "<style scoped>\n",
       "    .dataframe tbody tr th:only-of-type {\n",
       "        vertical-align: middle;\n",
       "    }\n",
       "\n",
       "    .dataframe tbody tr th {\n",
       "        vertical-align: top;\n",
       "    }\n",
       "\n",
       "    .dataframe thead th {\n",
       "        text-align: right;\n",
       "    }\n",
       "</style>\n",
       "<table border=\"1\" class=\"dataframe\">\n",
       "  <thead>\n",
       "    <tr style=\"text-align: right;\">\n",
       "      <th></th>\n",
       "      <th>household_key</th>\n",
       "      <th>basket_id</th>\n",
       "      <th>day</th>\n",
       "      <th>product_id</th>\n",
       "      <th>quantity</th>\n",
       "      <th>sales_value</th>\n",
       "      <th>store_id</th>\n",
       "      <th>retail_disc</th>\n",
       "      <th>trans_time</th>\n",
       "      <th>week_no</th>\n",
       "      <th>coupon_disc</th>\n",
       "      <th>coupon_match_disc</th>\n",
       "    </tr>\n",
       "  </thead>\n",
       "  <tbody>\n",
       "    <tr>\n",
       "      <th>count</th>\n",
       "      <td>2.595732e+06</td>\n",
       "      <td>2.595732e+06</td>\n",
       "      <td>2.595732e+06</td>\n",
       "      <td>2.595732e+06</td>\n",
       "      <td>2.595732e+06</td>\n",
       "      <td>2.595732e+06</td>\n",
       "      <td>2.595732e+06</td>\n",
       "      <td>2.595732e+06</td>\n",
       "      <td>2.595732e+06</td>\n",
       "      <td>2.595732e+06</td>\n",
       "      <td>2.595732e+06</td>\n",
       "      <td>2.595732e+06</td>\n",
       "    </tr>\n",
       "    <tr>\n",
       "      <th>mean</th>\n",
       "      <td>1.271953e+03</td>\n",
       "      <td>3.402620e+10</td>\n",
       "      <td>3.887562e+02</td>\n",
       "      <td>2.891435e+06</td>\n",
       "      <td>1.004286e+02</td>\n",
       "      <td>3.104120e+00</td>\n",
       "      <td>3.142673e+03</td>\n",
       "      <td>-5.387054e-01</td>\n",
       "      <td>1.561586e+03</td>\n",
       "      <td>5.622150e+01</td>\n",
       "      <td>-1.641600e-02</td>\n",
       "      <td>-2.918564e-03</td>\n",
       "    </tr>\n",
       "    <tr>\n",
       "      <th>std</th>\n",
       "      <td>7.260660e+02</td>\n",
       "      <td>4.711649e+09</td>\n",
       "      <td>1.897210e+02</td>\n",
       "      <td>3.837404e+06</td>\n",
       "      <td>1.153436e+03</td>\n",
       "      <td>4.182274e+00</td>\n",
       "      <td>8.937113e+03</td>\n",
       "      <td>1.249191e+00</td>\n",
       "      <td>3.998378e+02</td>\n",
       "      <td>2.710223e+01</td>\n",
       "      <td>2.168410e-01</td>\n",
       "      <td>3.969004e-02</td>\n",
       "    </tr>\n",
       "    <tr>\n",
       "      <th>min</th>\n",
       "      <td>1.000000e+00</td>\n",
       "      <td>2.698485e+10</td>\n",
       "      <td>1.000000e+00</td>\n",
       "      <td>2.567100e+04</td>\n",
       "      <td>0.000000e+00</td>\n",
       "      <td>0.000000e+00</td>\n",
       "      <td>1.000000e+00</td>\n",
       "      <td>-1.800000e+02</td>\n",
       "      <td>0.000000e+00</td>\n",
       "      <td>1.000000e+00</td>\n",
       "      <td>-5.593000e+01</td>\n",
       "      <td>-7.700000e+00</td>\n",
       "    </tr>\n",
       "    <tr>\n",
       "      <th>25%</th>\n",
       "      <td>6.560000e+02</td>\n",
       "      <td>3.040805e+10</td>\n",
       "      <td>2.290000e+02</td>\n",
       "      <td>9.174590e+05</td>\n",
       "      <td>1.000000e+00</td>\n",
       "      <td>1.290000e+00</td>\n",
       "      <td>3.300000e+02</td>\n",
       "      <td>-6.900000e-01</td>\n",
       "      <td>1.308000e+03</td>\n",
       "      <td>3.300000e+01</td>\n",
       "      <td>0.000000e+00</td>\n",
       "      <td>0.000000e+00</td>\n",
       "    </tr>\n",
       "    <tr>\n",
       "      <th>50%</th>\n",
       "      <td>1.272000e+03</td>\n",
       "      <td>3.276081e+10</td>\n",
       "      <td>3.900000e+02</td>\n",
       "      <td>1.028816e+06</td>\n",
       "      <td>1.000000e+00</td>\n",
       "      <td>2.000000e+00</td>\n",
       "      <td>3.720000e+02</td>\n",
       "      <td>-1.000000e-02</td>\n",
       "      <td>1.613000e+03</td>\n",
       "      <td>5.600000e+01</td>\n",
       "      <td>0.000000e+00</td>\n",
       "      <td>0.000000e+00</td>\n",
       "    </tr>\n",
       "    <tr>\n",
       "      <th>75%</th>\n",
       "      <td>1.913000e+03</td>\n",
       "      <td>4.012685e+10</td>\n",
       "      <td>5.530000e+02</td>\n",
       "      <td>1.133018e+06</td>\n",
       "      <td>1.000000e+00</td>\n",
       "      <td>3.490000e+00</td>\n",
       "      <td>4.220000e+02</td>\n",
       "      <td>0.000000e+00</td>\n",
       "      <td>1.843000e+03</td>\n",
       "      <td>8.000000e+01</td>\n",
       "      <td>0.000000e+00</td>\n",
       "      <td>0.000000e+00</td>\n",
       "    </tr>\n",
       "    <tr>\n",
       "      <th>max</th>\n",
       "      <td>2.500000e+03</td>\n",
       "      <td>4.230536e+10</td>\n",
       "      <td>7.110000e+02</td>\n",
       "      <td>1.831630e+07</td>\n",
       "      <td>8.963800e+04</td>\n",
       "      <td>8.400000e+02</td>\n",
       "      <td>3.428000e+04</td>\n",
       "      <td>3.990000e+00</td>\n",
       "      <td>2.359000e+03</td>\n",
       "      <td>1.020000e+02</td>\n",
       "      <td>0.000000e+00</td>\n",
       "      <td>0.000000e+00</td>\n",
       "    </tr>\n",
       "  </tbody>\n",
       "</table>\n",
       "</div>"
      ],
      "text/plain": [
       "       household_key     basket_id           day    product_id      quantity  \\\n",
       "count   2.595732e+06  2.595732e+06  2.595732e+06  2.595732e+06  2.595732e+06   \n",
       "mean    1.271953e+03  3.402620e+10  3.887562e+02  2.891435e+06  1.004286e+02   \n",
       "std     7.260660e+02  4.711649e+09  1.897210e+02  3.837404e+06  1.153436e+03   \n",
       "min     1.000000e+00  2.698485e+10  1.000000e+00  2.567100e+04  0.000000e+00   \n",
       "25%     6.560000e+02  3.040805e+10  2.290000e+02  9.174590e+05  1.000000e+00   \n",
       "50%     1.272000e+03  3.276081e+10  3.900000e+02  1.028816e+06  1.000000e+00   \n",
       "75%     1.913000e+03  4.012685e+10  5.530000e+02  1.133018e+06  1.000000e+00   \n",
       "max     2.500000e+03  4.230536e+10  7.110000e+02  1.831630e+07  8.963800e+04   \n",
       "\n",
       "        sales_value      store_id   retail_disc    trans_time       week_no  \\\n",
       "count  2.595732e+06  2.595732e+06  2.595732e+06  2.595732e+06  2.595732e+06   \n",
       "mean   3.104120e+00  3.142673e+03 -5.387054e-01  1.561586e+03  5.622150e+01   \n",
       "std    4.182274e+00  8.937113e+03  1.249191e+00  3.998378e+02  2.710223e+01   \n",
       "min    0.000000e+00  1.000000e+00 -1.800000e+02  0.000000e+00  1.000000e+00   \n",
       "25%    1.290000e+00  3.300000e+02 -6.900000e-01  1.308000e+03  3.300000e+01   \n",
       "50%    2.000000e+00  3.720000e+02 -1.000000e-02  1.613000e+03  5.600000e+01   \n",
       "75%    3.490000e+00  4.220000e+02  0.000000e+00  1.843000e+03  8.000000e+01   \n",
       "max    8.400000e+02  3.428000e+04  3.990000e+00  2.359000e+03  1.020000e+02   \n",
       "\n",
       "        coupon_disc  coupon_match_disc  \n",
       "count  2.595732e+06       2.595732e+06  \n",
       "mean  -1.641600e-02      -2.918564e-03  \n",
       "std    2.168410e-01       3.969004e-02  \n",
       "min   -5.593000e+01      -7.700000e+00  \n",
       "25%    0.000000e+00       0.000000e+00  \n",
       "50%    0.000000e+00       0.000000e+00  \n",
       "75%    0.000000e+00       0.000000e+00  \n",
       "max    0.000000e+00       0.000000e+00  "
      ]
     },
     "execution_count": 35,
     "metadata": {},
     "output_type": "execute_result"
    }
   ],
   "source": [
    "# For every numerical column\n",
    "transactions.describe()"
   ]
  },
  {
   "cell_type": "code",
   "execution_count": 36,
   "metadata": {},
   "outputs": [
    {
     "data": {
      "text/plain": [
       "(92353, 7)"
      ]
     },
     "execution_count": 36,
     "metadata": {},
     "output_type": "execute_result"
    }
   ],
   "source": [
    "# Get the shape of the dataset. Returns (rows, columns)\n",
    "products.shape"
   ]
  },
  {
   "cell_type": "markdown",
   "metadata": {},
   "source": [
    "### Filtering data\n",
    "For data analysis you may want to remove some of the data that isnt needed eg where sales below a certain value (say the 25%). "
   ]
  },
  {
   "cell_type": "code",
   "execution_count": 39,
   "metadata": {},
   "outputs": [],
   "source": [
    "transactions = transactions[transactions['sales_value'] <= 3.49]"
   ]
  },
  {
   "cell_type": "markdown",
   "metadata": {},
   "source": [
    "### Creating new columns\n",
    "You may want to create new columns with a calculation of other columns or with another value."
   ]
  },
  {
   "cell_type": "code",
   "execution_count": 41,
   "metadata": {},
   "outputs": [],
   "source": [
    "transactions['price'] = transactions['sales_value'] * transactions['quantity']"
   ]
  },
  {
   "cell_type": "code",
   "execution_count": 42,
   "metadata": {},
   "outputs": [
    {
     "data": {
      "text/html": [
       "<div>\n",
       "<style scoped>\n",
       "    .dataframe tbody tr th:only-of-type {\n",
       "        vertical-align: middle;\n",
       "    }\n",
       "\n",
       "    .dataframe tbody tr th {\n",
       "        vertical-align: top;\n",
       "    }\n",
       "\n",
       "    .dataframe thead th {\n",
       "        text-align: right;\n",
       "    }\n",
       "</style>\n",
       "<table border=\"1\" class=\"dataframe\">\n",
       "  <thead>\n",
       "    <tr style=\"text-align: right;\">\n",
       "      <th></th>\n",
       "      <th>household_key</th>\n",
       "      <th>basket_id</th>\n",
       "      <th>day</th>\n",
       "      <th>product_id</th>\n",
       "      <th>quantity</th>\n",
       "      <th>sales_value</th>\n",
       "      <th>store_id</th>\n",
       "      <th>retail_disc</th>\n",
       "      <th>trans_time</th>\n",
       "      <th>week_no</th>\n",
       "      <th>coupon_disc</th>\n",
       "      <th>coupon_match_disc</th>\n",
       "      <th>price</th>\n",
       "    </tr>\n",
       "  </thead>\n",
       "  <tbody>\n",
       "    <tr>\n",
       "      <th>0</th>\n",
       "      <td>2375</td>\n",
       "      <td>2.698485e+10</td>\n",
       "      <td>1</td>\n",
       "      <td>1033142</td>\n",
       "      <td>1</td>\n",
       "      <td>0.82</td>\n",
       "      <td>364</td>\n",
       "      <td>0.00</td>\n",
       "      <td>1631</td>\n",
       "      <td>1</td>\n",
       "      <td>0.0</td>\n",
       "      <td>0.0</td>\n",
       "      <td>0.82</td>\n",
       "    </tr>\n",
       "    <tr>\n",
       "      <th>1</th>\n",
       "      <td>1172</td>\n",
       "      <td>2.698503e+10</td>\n",
       "      <td>1</td>\n",
       "      <td>981760</td>\n",
       "      <td>1</td>\n",
       "      <td>0.79</td>\n",
       "      <td>396</td>\n",
       "      <td>-0.60</td>\n",
       "      <td>946</td>\n",
       "      <td>1</td>\n",
       "      <td>0.0</td>\n",
       "      <td>0.0</td>\n",
       "      <td>0.79</td>\n",
       "    </tr>\n",
       "    <tr>\n",
       "      <th>3</th>\n",
       "      <td>744</td>\n",
       "      <td>2.698517e+10</td>\n",
       "      <td>1</td>\n",
       "      <td>5978648</td>\n",
       "      <td>0</td>\n",
       "      <td>0.00</td>\n",
       "      <td>31582</td>\n",
       "      <td>0.00</td>\n",
       "      <td>1119</td>\n",
       "      <td>1</td>\n",
       "      <td>0.0</td>\n",
       "      <td>0.0</td>\n",
       "      <td>0.00</td>\n",
       "    </tr>\n",
       "    <tr>\n",
       "      <th>4</th>\n",
       "      <td>718</td>\n",
       "      <td>2.698536e+10</td>\n",
       "      <td>1</td>\n",
       "      <td>830503</td>\n",
       "      <td>1</td>\n",
       "      <td>2.99</td>\n",
       "      <td>324</td>\n",
       "      <td>-1.00</td>\n",
       "      <td>1115</td>\n",
       "      <td>1</td>\n",
       "      <td>-1.0</td>\n",
       "      <td>0.0</td>\n",
       "      <td>2.99</td>\n",
       "    </tr>\n",
       "    <tr>\n",
       "      <th>6</th>\n",
       "      <td>718</td>\n",
       "      <td>2.698536e+10</td>\n",
       "      <td>1</td>\n",
       "      <td>1098694</td>\n",
       "      <td>1</td>\n",
       "      <td>2.50</td>\n",
       "      <td>324</td>\n",
       "      <td>-0.99</td>\n",
       "      <td>1115</td>\n",
       "      <td>1</td>\n",
       "      <td>0.0</td>\n",
       "      <td>0.0</td>\n",
       "      <td>2.50</td>\n",
       "    </tr>\n",
       "  </tbody>\n",
       "</table>\n",
       "</div>"
      ],
      "text/plain": [
       "   household_key     basket_id  day  product_id  quantity  sales_value  \\\n",
       "0           2375  2.698485e+10    1     1033142         1         0.82   \n",
       "1           1172  2.698503e+10    1      981760         1         0.79   \n",
       "3            744  2.698517e+10    1     5978648         0         0.00   \n",
       "4            718  2.698536e+10    1      830503         1         2.99   \n",
       "6            718  2.698536e+10    1     1098694         1         2.50   \n",
       "\n",
       "   store_id  retail_disc  trans_time  week_no  coupon_disc  coupon_match_disc  \\\n",
       "0       364         0.00        1631        1          0.0                0.0   \n",
       "1       396        -0.60         946        1          0.0                0.0   \n",
       "3     31582         0.00        1119        1          0.0                0.0   \n",
       "4       324        -1.00        1115        1         -1.0                0.0   \n",
       "6       324        -0.99        1115        1          0.0                0.0   \n",
       "\n",
       "   price  \n",
       "0   0.82  \n",
       "1   0.79  \n",
       "3   0.00  \n",
       "4   2.99  \n",
       "6   2.50  "
      ]
     },
     "execution_count": 42,
     "metadata": {},
     "output_type": "execute_result"
    }
   ],
   "source": [
    "transactions.head()"
   ]
  },
  {
   "cell_type": "markdown",
   "metadata": {},
   "source": [
    "### Joining data\n",
    "Like SQL and R we can join data in Python. Even though it is likely faster at source (eg in a database), if we had some data in S3 we wouldn't be able to query it from there. There are several ways to join data:\n",
    "* `pd.merge()` - Common way to join tables together, can state if its 'left', 'right', 'inner'\n",
    "* `join()` - Similar to above\n",
    "* `pd.concat()` - concatenation across different tables eg with the same columns . Can also use `append()`"
   ]
  },
  {
   "cell_type": "code",
   "execution_count": 43,
   "metadata": {},
   "outputs": [],
   "source": [
    "df = pd.merge(transactions, products, on = 'product_id', how='left')"
   ]
  },
  {
   "cell_type": "code",
   "execution_count": 45,
   "metadata": {},
   "outputs": [
    {
     "data": {
      "text/html": [
       "<div>\n",
       "<style scoped>\n",
       "    .dataframe tbody tr th:only-of-type {\n",
       "        vertical-align: middle;\n",
       "    }\n",
       "\n",
       "    .dataframe tbody tr th {\n",
       "        vertical-align: top;\n",
       "    }\n",
       "\n",
       "    .dataframe thead th {\n",
       "        text-align: right;\n",
       "    }\n",
       "</style>\n",
       "<table border=\"1\" class=\"dataframe\">\n",
       "  <thead>\n",
       "    <tr style=\"text-align: right;\">\n",
       "      <th></th>\n",
       "      <th>household_key</th>\n",
       "      <th>basket_id</th>\n",
       "      <th>day</th>\n",
       "      <th>product_id</th>\n",
       "      <th>quantity</th>\n",
       "      <th>sales_value</th>\n",
       "      <th>store_id</th>\n",
       "      <th>retail_disc</th>\n",
       "      <th>trans_time</th>\n",
       "      <th>week_no</th>\n",
       "      <th>coupon_disc</th>\n",
       "      <th>coupon_match_disc</th>\n",
       "      <th>price</th>\n",
       "    </tr>\n",
       "  </thead>\n",
       "  <tbody>\n",
       "    <tr>\n",
       "      <th>0</th>\n",
       "      <td>2375</td>\n",
       "      <td>2.698485e+10</td>\n",
       "      <td>1</td>\n",
       "      <td>1033142</td>\n",
       "      <td>1</td>\n",
       "      <td>0.82</td>\n",
       "      <td>364</td>\n",
       "      <td>0.00</td>\n",
       "      <td>1631</td>\n",
       "      <td>1</td>\n",
       "      <td>0.0</td>\n",
       "      <td>0.0</td>\n",
       "      <td>0.82</td>\n",
       "    </tr>\n",
       "    <tr>\n",
       "      <th>1</th>\n",
       "      <td>1172</td>\n",
       "      <td>2.698503e+10</td>\n",
       "      <td>1</td>\n",
       "      <td>981760</td>\n",
       "      <td>1</td>\n",
       "      <td>0.79</td>\n",
       "      <td>396</td>\n",
       "      <td>-0.60</td>\n",
       "      <td>946</td>\n",
       "      <td>1</td>\n",
       "      <td>0.0</td>\n",
       "      <td>0.0</td>\n",
       "      <td>0.79</td>\n",
       "    </tr>\n",
       "    <tr>\n",
       "      <th>3</th>\n",
       "      <td>744</td>\n",
       "      <td>2.698517e+10</td>\n",
       "      <td>1</td>\n",
       "      <td>5978648</td>\n",
       "      <td>0</td>\n",
       "      <td>0.00</td>\n",
       "      <td>31582</td>\n",
       "      <td>0.00</td>\n",
       "      <td>1119</td>\n",
       "      <td>1</td>\n",
       "      <td>0.0</td>\n",
       "      <td>0.0</td>\n",
       "      <td>0.00</td>\n",
       "    </tr>\n",
       "    <tr>\n",
       "      <th>4</th>\n",
       "      <td>718</td>\n",
       "      <td>2.698536e+10</td>\n",
       "      <td>1</td>\n",
       "      <td>830503</td>\n",
       "      <td>1</td>\n",
       "      <td>2.99</td>\n",
       "      <td>324</td>\n",
       "      <td>-1.00</td>\n",
       "      <td>1115</td>\n",
       "      <td>1</td>\n",
       "      <td>-1.0</td>\n",
       "      <td>0.0</td>\n",
       "      <td>2.99</td>\n",
       "    </tr>\n",
       "    <tr>\n",
       "      <th>6</th>\n",
       "      <td>718</td>\n",
       "      <td>2.698536e+10</td>\n",
       "      <td>1</td>\n",
       "      <td>1098694</td>\n",
       "      <td>1</td>\n",
       "      <td>2.50</td>\n",
       "      <td>324</td>\n",
       "      <td>-0.99</td>\n",
       "      <td>1115</td>\n",
       "      <td>1</td>\n",
       "      <td>0.0</td>\n",
       "      <td>0.0</td>\n",
       "      <td>2.50</td>\n",
       "    </tr>\n",
       "  </tbody>\n",
       "</table>\n",
       "</div>"
      ],
      "text/plain": [
       "   household_key     basket_id  day  product_id  quantity  sales_value  \\\n",
       "0           2375  2.698485e+10    1     1033142         1         0.82   \n",
       "1           1172  2.698503e+10    1      981760         1         0.79   \n",
       "3            744  2.698517e+10    1     5978648         0         0.00   \n",
       "4            718  2.698536e+10    1      830503         1         2.99   \n",
       "6            718  2.698536e+10    1     1098694         1         2.50   \n",
       "\n",
       "   store_id  retail_disc  trans_time  week_no  coupon_disc  coupon_match_disc  \\\n",
       "0       364         0.00        1631        1          0.0                0.0   \n",
       "1       396        -0.60         946        1          0.0                0.0   \n",
       "3     31582         0.00        1119        1          0.0                0.0   \n",
       "4       324        -1.00        1115        1         -1.0                0.0   \n",
       "6       324        -0.99        1115        1          0.0                0.0   \n",
       "\n",
       "   price  \n",
       "0   0.82  \n",
       "1   0.79  \n",
       "3   0.00  \n",
       "4   2.99  \n",
       "6   2.50  "
      ]
     },
     "execution_count": 45,
     "metadata": {},
     "output_type": "execute_result"
    }
   ],
   "source": [
    "transactions.head()"
   ]
  },
  {
   "cell_type": "code",
   "execution_count": 46,
   "metadata": {},
   "outputs": [
    {
     "data": {
      "text/html": [
       "<div>\n",
       "<style scoped>\n",
       "    .dataframe tbody tr th:only-of-type {\n",
       "        vertical-align: middle;\n",
       "    }\n",
       "\n",
       "    .dataframe tbody tr th {\n",
       "        vertical-align: top;\n",
       "    }\n",
       "\n",
       "    .dataframe thead th {\n",
       "        text-align: right;\n",
       "    }\n",
       "</style>\n",
       "<table border=\"1\" class=\"dataframe\">\n",
       "  <thead>\n",
       "    <tr style=\"text-align: right;\">\n",
       "      <th></th>\n",
       "      <th>product_id</th>\n",
       "      <th>manufacturer</th>\n",
       "      <th>department</th>\n",
       "      <th>brand</th>\n",
       "      <th>commodity_desc</th>\n",
       "      <th>sub_commodity_desc</th>\n",
       "      <th>curr_size_of_product</th>\n",
       "    </tr>\n",
       "  </thead>\n",
       "  <tbody>\n",
       "    <tr>\n",
       "      <th>0</th>\n",
       "      <td>27510</td>\n",
       "      <td>69</td>\n",
       "      <td>GROCERY</td>\n",
       "      <td>Private</td>\n",
       "      <td>VEGETABLES - SHELF STABLE</td>\n",
       "      <td>MIXED VEGETABLES</td>\n",
       "      <td>15 OZ</td>\n",
       "    </tr>\n",
       "    <tr>\n",
       "      <th>1</th>\n",
       "      <td>28102</td>\n",
       "      <td>69</td>\n",
       "      <td>GROCERY</td>\n",
       "      <td>Private</td>\n",
       "      <td>FD WRAPS/BAGS/TRSH BG</td>\n",
       "      <td>FREEZER BAGS</td>\n",
       "      <td>20 CT</td>\n",
       "    </tr>\n",
       "    <tr>\n",
       "      <th>2</th>\n",
       "      <td>28919</td>\n",
       "      <td>236</td>\n",
       "      <td>GROCERY</td>\n",
       "      <td>National</td>\n",
       "      <td>REFRGRATD DOUGH PRODUCTS</td>\n",
       "      <td>REFRIGERATED COOKIES-CHUB</td>\n",
       "      <td>16.5 OZ</td>\n",
       "    </tr>\n",
       "    <tr>\n",
       "      <th>3</th>\n",
       "      <td>30003</td>\n",
       "      <td>397</td>\n",
       "      <td>MEAT-PCKGD</td>\n",
       "      <td>National</td>\n",
       "      <td>FROZEN MEAT</td>\n",
       "      <td>FRZN BREADED PREPARED CHICK</td>\n",
       "      <td>9 OZ</td>\n",
       "    </tr>\n",
       "    <tr>\n",
       "      <th>4</th>\n",
       "      <td>31412</td>\n",
       "      <td>693</td>\n",
       "      <td>DRUG GM</td>\n",
       "      <td>National</td>\n",
       "      <td>CANDY - CHECKLANE</td>\n",
       "      <td>CANDY BARS (SINGLES)(INCLUDING</td>\n",
       "      <td>1.55 OZ</td>\n",
       "    </tr>\n",
       "  </tbody>\n",
       "</table>\n",
       "</div>"
      ],
      "text/plain": [
       "   product_id  manufacturer  department     brand             commodity_desc  \\\n",
       "0       27510            69     GROCERY   Private  VEGETABLES - SHELF STABLE   \n",
       "1       28102            69     GROCERY   Private      FD WRAPS/BAGS/TRSH BG   \n",
       "2       28919           236     GROCERY  National   REFRGRATD DOUGH PRODUCTS   \n",
       "3       30003           397  MEAT-PCKGD  National                FROZEN MEAT   \n",
       "4       31412           693     DRUG GM  National          CANDY - CHECKLANE   \n",
       "\n",
       "               sub_commodity_desc curr_size_of_product  \n",
       "0                MIXED VEGETABLES                15 OZ  \n",
       "1                    FREEZER BAGS                20 CT  \n",
       "2       REFRIGERATED COOKIES-CHUB              16.5 OZ  \n",
       "3     FRZN BREADED PREPARED CHICK                 9 OZ  \n",
       "4  CANDY BARS (SINGLES)(INCLUDING              1.55 OZ  "
      ]
     },
     "execution_count": 46,
     "metadata": {},
     "output_type": "execute_result"
    }
   ],
   "source": [
    "products.head()"
   ]
  },
  {
   "cell_type": "markdown",
   "metadata": {},
   "source": [
    "### Aggregating data\n",
    "Aggregating data is very important, and its very easy to do it Python! The main syntax for this is:\n",
    "* `groupby(x)` - This states what you are grouping by. You can group by more than one column! \n",
    "* `[x].whateveryouwant()` - this follows stating what you want to do with the grouping\n",
    "\n",
    "The most common aggregations are:\n",
    "* `sum` - sums the values in each group by column x\n",
    "* `count` - counts the occurances \n",
    "* `mean` - mean value of the the column\n",
    "* `median` - median value of the column\n",
    "* `max` - max value\n",
    "* `min` - min value\n",
    "\n",
    "(FYI there is different syntax to group by - this is just how I do it!)"
   ]
  },
  {
   "cell_type": "code",
   "execution_count": 47,
   "metadata": {},
   "outputs": [],
   "source": [
    "# Getting the quantity of every group\n",
    "grouped_data = pd.DataFrame(\n",
    "                        df.groupby('commodity_desc')['quantity'].sum()\n",
    "                                ).reset_index()"
   ]
  },
  {
   "cell_type": "code",
   "execution_count": 48,
   "metadata": {},
   "outputs": [
    {
     "data": {
      "text/html": [
       "<div>\n",
       "<style scoped>\n",
       "    .dataframe tbody tr th:only-of-type {\n",
       "        vertical-align: middle;\n",
       "    }\n",
       "\n",
       "    .dataframe tbody tr th {\n",
       "        vertical-align: top;\n",
       "    }\n",
       "\n",
       "    .dataframe thead th {\n",
       "        text-align: right;\n",
       "    }\n",
       "</style>\n",
       "<table border=\"1\" class=\"dataframe\">\n",
       "  <thead>\n",
       "    <tr style=\"text-align: right;\">\n",
       "      <th></th>\n",
       "      <th>commodity_desc</th>\n",
       "      <th>quantity</th>\n",
       "    </tr>\n",
       "  </thead>\n",
       "  <tbody>\n",
       "    <tr>\n",
       "      <th>0</th>\n",
       "      <td></td>\n",
       "      <td>0</td>\n",
       "    </tr>\n",
       "    <tr>\n",
       "      <th>1</th>\n",
       "      <td>(CORP USE ONLY)</td>\n",
       "      <td>37</td>\n",
       "    </tr>\n",
       "    <tr>\n",
       "      <th>2</th>\n",
       "      <td>ADULT INCONTINENCE</td>\n",
       "      <td>67</td>\n",
       "    </tr>\n",
       "    <tr>\n",
       "      <th>3</th>\n",
       "      <td>AIR CARE</td>\n",
       "      <td>4338</td>\n",
       "    </tr>\n",
       "    <tr>\n",
       "      <th>4</th>\n",
       "      <td>ANALGESICS</td>\n",
       "      <td>1362</td>\n",
       "    </tr>\n",
       "  </tbody>\n",
       "</table>\n",
       "</div>"
      ],
      "text/plain": [
       "       commodity_desc  quantity\n",
       "0                             0\n",
       "1     (CORP USE ONLY)        37\n",
       "2  ADULT INCONTINENCE        67\n",
       "3            AIR CARE      4338\n",
       "4          ANALGESICS      1362"
      ]
     },
     "execution_count": 48,
     "metadata": {},
     "output_type": "execute_result"
    }
   ],
   "source": [
    "grouped_data.head()"
   ]
  },
  {
   "cell_type": "markdown",
   "metadata": {},
   "source": [
    "Instead of using `[x].whateveryouwant()` you can use `agg()` which enables you to do several aggreagtions on the grouping you have"
   ]
  },
  {
   "cell_type": "code",
   "execution_count": 58,
   "metadata": {},
   "outputs": [
    {
     "data": {
      "text/html": [
       "<div>\n",
       "<style scoped>\n",
       "    .dataframe tbody tr th:only-of-type {\n",
       "        vertical-align: middle;\n",
       "    }\n",
       "\n",
       "    .dataframe tbody tr th {\n",
       "        vertical-align: top;\n",
       "    }\n",
       "\n",
       "    .dataframe thead tr th {\n",
       "        text-align: left;\n",
       "    }\n",
       "</style>\n",
       "<table border=\"1\" class=\"dataframe\">\n",
       "  <thead>\n",
       "    <tr>\n",
       "      <th></th>\n",
       "      <th>commodity_desc</th>\n",
       "      <th colspan=\"2\" halign=\"left\">quantity</th>\n",
       "    </tr>\n",
       "    <tr>\n",
       "      <th></th>\n",
       "      <th></th>\n",
       "      <th>sum</th>\n",
       "      <th>max</th>\n",
       "    </tr>\n",
       "  </thead>\n",
       "  <tbody>\n",
       "    <tr>\n",
       "      <th>0</th>\n",
       "      <td></td>\n",
       "      <td>0</td>\n",
       "      <td>0</td>\n",
       "    </tr>\n",
       "    <tr>\n",
       "      <th>1</th>\n",
       "      <td>(CORP USE ONLY)</td>\n",
       "      <td>37</td>\n",
       "      <td>3</td>\n",
       "    </tr>\n",
       "    <tr>\n",
       "      <th>2</th>\n",
       "      <td>ADULT INCONTINENCE</td>\n",
       "      <td>67</td>\n",
       "      <td>2</td>\n",
       "    </tr>\n",
       "    <tr>\n",
       "      <th>3</th>\n",
       "      <td>AIR CARE</td>\n",
       "      <td>4338</td>\n",
       "      <td>7</td>\n",
       "    </tr>\n",
       "    <tr>\n",
       "      <th>4</th>\n",
       "      <td>ANALGESICS</td>\n",
       "      <td>1362</td>\n",
       "      <td>3</td>\n",
       "    </tr>\n",
       "    <tr>\n",
       "      <th>...</th>\n",
       "      <td>...</td>\n",
       "      <td>...</td>\n",
       "      <td>...</td>\n",
       "    </tr>\n",
       "    <tr>\n",
       "      <th>298</th>\n",
       "      <td>WAREHOUSE SNACKS</td>\n",
       "      <td>9504</td>\n",
       "      <td>5</td>\n",
       "    </tr>\n",
       "    <tr>\n",
       "      <th>299</th>\n",
       "      <td>WATCHES/CALCULATORS/LOBBY</td>\n",
       "      <td>20</td>\n",
       "      <td>4</td>\n",
       "    </tr>\n",
       "    <tr>\n",
       "      <th>300</th>\n",
       "      <td>WATER</td>\n",
       "      <td>2912</td>\n",
       "      <td>11</td>\n",
       "    </tr>\n",
       "    <tr>\n",
       "      <th>301</th>\n",
       "      <td>WATER - CARBONATED/FLVRD DRINK</td>\n",
       "      <td>16207</td>\n",
       "      <td>7</td>\n",
       "    </tr>\n",
       "    <tr>\n",
       "      <th>302</th>\n",
       "      <td>YOGURT</td>\n",
       "      <td>66704</td>\n",
       "      <td>9</td>\n",
       "    </tr>\n",
       "  </tbody>\n",
       "</table>\n",
       "<p>303 rows × 3 columns</p>\n",
       "</div>"
      ],
      "text/plain": [
       "                     commodity_desc quantity    \n",
       "                                         sum max\n",
       "0                                          0   0\n",
       "1                   (CORP USE ONLY)       37   3\n",
       "2                ADULT INCONTINENCE       67   2\n",
       "3                          AIR CARE     4338   7\n",
       "4                        ANALGESICS     1362   3\n",
       "..                              ...      ...  ..\n",
       "298                WAREHOUSE SNACKS     9504   5\n",
       "299       WATCHES/CALCULATORS/LOBBY       20   4\n",
       "300                           WATER     2912  11\n",
       "301  WATER - CARBONATED/FLVRD DRINK    16207   7\n",
       "302                          YOGURT    66704   9\n",
       "\n",
       "[303 rows x 3 columns]"
      ]
     },
     "execution_count": 58,
     "metadata": {},
     "output_type": "execute_result"
    }
   ],
   "source": [
    "pd.DataFrame(\n",
    "    df.groupby('commodity_desc').agg({'quantity':['sum','max']}\n",
    "                                    )\n",
    ").reset_index().rename(columns={'xxx':'xxxx'})\n",
    "\n",
    "\n",
    "df.groupby(x).agg(total_quantity = ('quantity','sum), average_quantity = ('quantity' , 'mean')).reset_index()"
   ]
  },
  {
   "cell_type": "markdown",
   "metadata": {},
   "source": [
    "### Sorting values\n",
    "Now when you have your grouped data, you may want to see what the top values are! Or even with you raw data you might want to see the upper or lower values! When using this type of syntax you can use `inplace=True` which allows you to just alter the current dataframe without renaming it (use at your own risk!)"
   ]
  },
  {
   "cell_type": "code",
   "execution_count": 57,
   "metadata": {},
   "outputs": [],
   "source": [
    "grouped_data.sort_values(by = 'quantity', ascending=False, inplace=True)"
   ]
  },
  {
   "cell_type": "markdown",
   "metadata": {},
   "source": [
    "## Machine Learning!\n",
    "There are different ways you can use machine learning in Python! \n",
    "* `sklearn`\n",
    "* `tensorflow` \n",
    "* Code it yourself!\n",
    "\n",
    "The most common library to use is `sklearn` and I will show you how to train a model and test a model!\n",
    "\n",
    "There are three types of ML techniques we can build using `sklearn`\n",
    "1. Regression - Predicting a continuous value (Supervised)\n",
    "2. Classification - Prediction a label  (Supervised)\n",
    "3. Clustering - Grouping similar values together (Unsupervised)\n",
    "\n",
    "I will go though Regression and Classifcation today! However, the clustering syntax is very simlar to the other two!\n",
    "\n",
    "### Regression\n",
    "\n",
    "First lets install some libraries"
   ]
  },
  {
   "cell_type": "code",
   "execution_count": 59,
   "metadata": {},
   "outputs": [],
   "source": [
    "from sklearn.linear_model import LinearRegression ## The model\n",
    "from sklearn.model_selection import KFold, cross_val_score\n"
   ]
  },
  {
   "cell_type": "markdown",
   "metadata": {},
   "source": [
    "We will try and predict the price of a product depending on the day! "
   ]
  },
  {
   "cell_type": "code",
   "execution_count": 60,
   "metadata": {},
   "outputs": [],
   "source": [
    "data = pd.DataFrame(df.groupby(['day', 'product_id'])['sales_value'].sum()).reset_index()"
   ]
  },
  {
   "cell_type": "code",
   "execution_count": 61,
   "metadata": {},
   "outputs": [
    {
     "data": {
      "text/html": [
       "<div>\n",
       "<style scoped>\n",
       "    .dataframe tbody tr th:only-of-type {\n",
       "        vertical-align: middle;\n",
       "    }\n",
       "\n",
       "    .dataframe tbody tr th {\n",
       "        vertical-align: top;\n",
       "    }\n",
       "\n",
       "    .dataframe thead th {\n",
       "        text-align: right;\n",
       "    }\n",
       "</style>\n",
       "<table border=\"1\" class=\"dataframe\">\n",
       "  <thead>\n",
       "    <tr style=\"text-align: right;\">\n",
       "      <th></th>\n",
       "      <th>day</th>\n",
       "      <th>product_id</th>\n",
       "      <th>sales_value</th>\n",
       "    </tr>\n",
       "  </thead>\n",
       "  <tbody>\n",
       "    <tr>\n",
       "      <th>0</th>\n",
       "      <td>1</td>\n",
       "      <td>820162</td>\n",
       "      <td>1.79</td>\n",
       "    </tr>\n",
       "    <tr>\n",
       "      <th>1</th>\n",
       "      <td>1</td>\n",
       "      <td>822346</td>\n",
       "      <td>1.25</td>\n",
       "    </tr>\n",
       "    <tr>\n",
       "      <th>2</th>\n",
       "      <td>1</td>\n",
       "      <td>824399</td>\n",
       "      <td>1.98</td>\n",
       "    </tr>\n",
       "    <tr>\n",
       "      <th>3</th>\n",
       "      <td>1</td>\n",
       "      <td>826249</td>\n",
       "      <td>1.98</td>\n",
       "    </tr>\n",
       "    <tr>\n",
       "      <th>4</th>\n",
       "      <td>1</td>\n",
       "      <td>826784</td>\n",
       "      <td>0.99</td>\n",
       "    </tr>\n",
       "  </tbody>\n",
       "</table>\n",
       "</div>"
      ],
      "text/plain": [
       "   day  product_id  sales_value\n",
       "0    1      820162         1.79\n",
       "1    1      822346         1.25\n",
       "2    1      824399         1.98\n",
       "3    1      826249         1.98\n",
       "4    1      826784         0.99"
      ]
     },
     "execution_count": 61,
     "metadata": {},
     "output_type": "execute_result"
    }
   ],
   "source": [
    "data.head()"
   ]
  },
  {
   "cell_type": "markdown",
   "metadata": {},
   "source": [
    "Now lets create the ability to cross validate your data!\n"
   ]
  },
  {
   "cell_type": "code",
   "execution_count": 62,
   "metadata": {},
   "outputs": [],
   "source": [
    "kfold = KFold(n_splits=10, random_state=7, shuffle=True)"
   ]
  },
  {
   "cell_type": "code",
   "execution_count": 63,
   "metadata": {},
   "outputs": [],
   "source": [
    "model = LinearRegression() ## Declare the model"
   ]
  },
  {
   "cell_type": "markdown",
   "metadata": {},
   "source": [
    "Now we want to check the performance of the model! To do this for a regression technique I am using is R Sqaured which  provides an indication of the goodness of fit of a set of predictions to the actual values."
   ]
  },
  {
   "cell_type": "code",
   "execution_count": 66,
   "metadata": {},
   "outputs": [],
   "source": [
    "X = data.drop('sales_value', axis=1)\n",
    "Y = data['sales_value']"
   ]
  },
  {
   "cell_type": "code",
   "execution_count": 67,
   "metadata": {},
   "outputs": [
    {
     "name": "stdout",
     "output_type": "stream",
     "text": [
      "R^2: 0.002 (0.000)\n"
     ]
    }
   ],
   "source": [
    "scoring = 'r2'\n",
    "results = cross_val_score(model, X, Y, cv=kfold, scoring=scoring)\n",
    "print(\"R^2: %.3f (%.3f)\" % (results.mean(), results.std()))"
   ]
  },
  {
   "cell_type": "markdown",
   "metadata": {},
   "source": [
    "As you can see this is very poor! The model isnt fitting very well with the data. We can change this by altering the parameters or changing the model! \n",
    "\n",
    "### Classifcation\n",
    "\n",
    "\n",
    "We have focussed primarly on a Regression Technique, however you can also use different algorthms that are used for classification! To do this I am just going to randomly assign a 1 and 0 to the data!"
   ]
  },
  {
   "cell_type": "code",
   "execution_count": 68,
   "metadata": {},
   "outputs": [],
   "source": [
    "df['label'] = np.random.choice([1, 0], df.shape[0])"
   ]
  },
  {
   "cell_type": "code",
   "execution_count": 69,
   "metadata": {},
   "outputs": [],
   "source": [
    "class_df = df[['day', 'product_id', 'label']]"
   ]
  },
  {
   "cell_type": "markdown",
   "metadata": {},
   "source": [
    "With this type of ML I am going to split the data into a train and test set! X is the data and Y is the label"
   ]
  },
  {
   "cell_type": "code",
   "execution_count": 72,
   "metadata": {},
   "outputs": [],
   "source": [
    "from sklearn.model_selection import train_test_split"
   ]
  },
  {
   "cell_type": "code",
   "execution_count": 73,
   "metadata": {},
   "outputs": [],
   "source": [
    "X_train, X_test, y_train, y_test = train_test_split(class_df.drop('label', axis=1), \n",
    "                                                    class_df['label'], \n",
    "                                                   test_size =0.33)"
   ]
  },
  {
   "cell_type": "code",
   "execution_count": 75,
   "metadata": {},
   "outputs": [
    {
     "data": {
      "text/plain": [
       "1400140    0\n",
       "258393     1\n",
       "1425158    1\n",
       "619771     0\n",
       "1893106    0\n",
       "Name: label, dtype: int64"
      ]
     },
     "execution_count": 75,
     "metadata": {},
     "output_type": "execute_result"
    }
   ],
   "source": [
    "y_train.head()"
   ]
  },
  {
   "cell_type": "markdown",
   "metadata": {},
   "source": [
    "Lets train a model! For this we are going to use a `fit()` function to fit the training data to the model"
   ]
  },
  {
   "cell_type": "code",
   "execution_count": 76,
   "metadata": {},
   "outputs": [],
   "source": [
    "from sklearn.tree import DecisionTreeClassifier\n",
    "from sklearn.metrics import classification_report\n",
    "model = DecisionTreeClassifier().fit(X_train, y_train)"
   ]
  },
  {
   "cell_type": "markdown",
   "metadata": {},
   "source": [
    "Now we use that model to predict on the testing data"
   ]
  },
  {
   "cell_type": "code",
   "execution_count": 77,
   "metadata": {},
   "outputs": [
    {
     "data": {
      "text/plain": [
       "array([0, 0, 1, ..., 0, 1, 0])"
      ]
     },
     "execution_count": 77,
     "metadata": {},
     "output_type": "execute_result"
    }
   ],
   "source": [
    "predictions = model.predict(X_test)\n",
    "predictions"
   ]
  },
  {
   "cell_type": "code",
   "execution_count": 78,
   "metadata": {},
   "outputs": [
    {
     "data": {
      "text/plain": [
       "array([[1.  , 0.  ],\n",
       "       [1.  , 0.  ],\n",
       "       [0.  , 1.  ],\n",
       "       ...,\n",
       "       [0.75, 0.25],\n",
       "       [0.  , 1.  ],\n",
       "       [0.5 , 0.5 ]])"
      ]
     },
     "execution_count": 78,
     "metadata": {},
     "output_type": "execute_result"
    }
   ],
   "source": [
    "model.predict_proba(X_test)"
   ]
  },
  {
   "cell_type": "markdown",
   "metadata": {},
   "source": [
    "To test the performance we can use a `sklearn` function called `classification_report()`. This shows the accuracy, recall and F1 score for all the labels supplied!"
   ]
  },
  {
   "cell_type": "code",
   "execution_count": 79,
   "metadata": {},
   "outputs": [
    {
     "name": "stdout",
     "output_type": "stream",
     "text": [
      "              precision    recall  f1-score   support\n",
      "\n",
      "           0       0.50      0.54      0.52    324199\n",
      "           1       0.50      0.46      0.48    324743\n",
      "\n",
      "    accuracy                           0.50    648942\n",
      "   macro avg       0.50      0.50      0.50    648942\n",
      "weighted avg       0.50      0.50      0.50    648942\n",
      "\n"
     ]
    }
   ],
   "source": [
    "print(classification_report(y_true = y_test.to_numpy(), y_pred = predictions))"
   ]
  },
  {
   "cell_type": "markdown",
   "metadata": {},
   "source": [
    "To look more into `sklearn` and its capabilities go here https://scikit-learn.org/"
   ]
  },
  {
   "cell_type": "markdown",
   "metadata": {},
   "source": [
    "## Plotting Data\n",
    "Visualising your data is very important. R is best for this but there are several libraries to do this. \n",
    "* `matplotlib`\n",
    "* `seaborn` \n",
    "* `plotly`\n",
    "\n",
    "Today I will take you throught `matplotlib` and `seaborn`. For `matlotlib` you need to run `%matplotlib inline` to run the plots within the notebook. You can also chain library imports if you dont want to install everything.\n",
    "\n",
    "Additonally Orion has some plotting functionality to make your plots Peak Themed! However this is not needed and you can easily have the charts look how you want!"
   ]
  },
  {
   "cell_type": "code",
   "execution_count": null,
   "metadata": {},
   "outputs": [],
   "source": [
    "import matplotlib.pyplot as plt\n",
    "import seaborn as sns\n",
    "%matplotlib inline\n",
    "\n",
    "# From orion the colours and fonts! \n",
    "from orion.contrib.peak.style import install_peak_fonts, apply\n",
    "from orion.contrib.peak.style import PEAK_COLORS_1, PEAK_COLORS_2, PEAK_COLORS_3\n",
    "\n",
    "# This loads them up!\n",
    "install_peak_fonts()\n",
    "apply()"
   ]
  },
  {
   "cell_type": "markdown",
   "metadata": {},
   "source": [
    "The most common functions within `matplotlib` are:\n",
    "* `plt.hist()` - Historgram\n",
    "* `plt.bar()` - Bar chart\n",
    "* `plt.plot()` - Line chart"
   ]
  },
  {
   "cell_type": "code",
   "execution_count": null,
   "metadata": {},
   "outputs": [],
   "source": [
    "## This doesnt look great!\n",
    "plt.plot(transactions.groupby('day')['quantity'].sum())"
   ]
  },
  {
   "cell_type": "code",
   "execution_count": null,
   "metadata": {},
   "outputs": [],
   "source": [
    "fig, ax = plt.subplots()\n",
    "\n",
    "plt.plot(\n",
    "    transactions.groupby('day')['quantity'].sum(), \n",
    "    #color = PEAK_COLORS_1[3]\n",
    ")\n",
    "\n",
    "plt.xlabel('Day', size=10)\n",
    "plt.ylabel('Quantity', size=10)\n",
    "#plt.title('Quantity over time', size=10)\n",
    "ax.tick_params(axis='both', which='major', labelsize=8)"
   ]
  },
  {
   "cell_type": "markdown",
   "metadata": {},
   "source": [
    "`seaborn` is very similar! The most common chars are:\n",
    "* `sns.lineplot()`\n",
    "* `sns.barplot()`\n",
    "* `sns.distplot()`\n",
    "\n",
    "So if we wanted to create the same plot as above we use:"
   ]
  },
  {
   "cell_type": "code",
   "execution_count": null,
   "metadata": {},
   "outputs": [],
   "source": [
    "fig, ax = plt.subplots()\n",
    "\n",
    "# Replaces this with seaborn\n",
    "sns.lineplot( data = transactions.groupby('day')['quantity'].sum(), \n",
    "            color = PEAK_COLORS_1[3])\n",
    "\n",
    "\n",
    "plt.xlabel('Day', size=10)\n",
    "plt.ylabel('Quantity', size=10)\n",
    "plt.title('Quantity over time', size=10)\n",
    "ax.tick_params(axis='both', which='major', labelsize=8)"
   ]
  },
  {
   "cell_type": "markdown",
   "metadata": {},
   "source": [
    "You may also wish to show data within two groups, eg department and quantity over time. "
   ]
  },
  {
   "cell_type": "code",
   "execution_count": null,
   "metadata": {},
   "outputs": [],
   "source": [
    "data_to_plot = pd.DataFrame(df.groupby(['day', 'department'])['quantity'].sum()).reset_index()"
   ]
  },
  {
   "cell_type": "code",
   "execution_count": null,
   "metadata": {},
   "outputs": [],
   "source": [
    "data_to_plot.head()"
   ]
  },
  {
   "cell_type": "markdown",
   "metadata": {},
   "source": [
    "Sometimes plotting all of the data can look unreadable! "
   ]
  },
  {
   "cell_type": "code",
   "execution_count": null,
   "metadata": {},
   "outputs": [],
   "source": [
    "sns.lineplot(data = data_to_plot,\n",
    "             x = 'day', \n",
    "             y = 'quantity', \n",
    "            hue = 'department')"
   ]
  },
  {
   "cell_type": "markdown",
   "metadata": {},
   "source": [
    "Lets filter some out! Some functions I am using here:\n",
    "* `unique()` - Get the distinct values in that list\n",
    "* `isin()` - Only select the data I want"
   ]
  },
  {
   "cell_type": "code",
   "execution_count": null,
   "metadata": {},
   "outputs": [],
   "source": [
    "data_to_plot = data_to_plot[data_to_plot['day'] <= 30]"
   ]
  },
  {
   "cell_type": "code",
   "execution_count": null,
   "metadata": {},
   "outputs": [],
   "source": [
    "departments = data_to_plot.sort_values('quantity', ascending=False)['department'].unique()[0:9]\n",
    "data_to_plot = data_to_plot[data_to_plot['department'].isin(departments)]"
   ]
  },
  {
   "cell_type": "code",
   "execution_count": null,
   "metadata": {},
   "outputs": [],
   "source": [
    "fig, ax = plt.subplots()\n",
    "\n",
    "sns.lineplot(data = data_to_plot,\n",
    "             x = 'day', \n",
    "             y = 'quantity', \n",
    "            hue = 'department')\n",
    "\n",
    "plt.xlabel('Day', size=10)\n",
    "plt.ylabel('Quantity', size=10)\n",
    "plt.title('Quanty over time', size=10)\n",
    "ax.tick_params(axis='both', which='major', labelsize=8)"
   ]
  },
  {
   "cell_type": "code",
   "execution_count": null,
   "metadata": {},
   "outputs": [],
   "source": [
    "fig, ax = plt.subplots()\n",
    "\n",
    "sns.lineplot(data = data_to_plot,\n",
    "             x = 'day', \n",
    "             y = 'quantity', \n",
    "            hue = 'department')\n",
    "\n",
    "plt.xlabel('Day', size=10)\n",
    "plt.ylabel('Quantity', size=10)\n",
    "plt.title('Quantity over time', size=10)\n",
    "\n",
    "ax.legend(loc = 'best',\n",
    "          fontsize = 5, \n",
    "          title = 'Department', \n",
    "          title_fontsize =9 )\n",
    "\n",
    "\n",
    "ax.tick_params(axis='both', which='major', labelsize=8)\n"
   ]
  },
  {
   "cell_type": "code",
   "execution_count": null,
   "metadata": {},
   "outputs": [],
   "source": []
  }
 ],
 "metadata": {
  "kernelspec": {
   "display_name": "Python 3",
   "language": "python",
   "name": "python3"
  },
  "language_info": {
   "codemirror_mode": {
    "name": "ipython",
    "version": 3
   },
   "file_extension": ".py",
   "mimetype": "text/x-python",
   "name": "python",
   "nbconvert_exporter": "python",
   "pygments_lexer": "ipython3",
   "version": "3.6.10"
  }
 },
 "nbformat": 4,
 "nbformat_minor": 4
}
